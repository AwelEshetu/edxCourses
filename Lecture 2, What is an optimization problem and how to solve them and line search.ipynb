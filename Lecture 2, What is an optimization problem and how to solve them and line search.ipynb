{
 "cells": [
  {
   "cell_type": "markdown",
   "metadata": {
    "slideshow": {
     "slide_type": "slide"
    }
   },
   "source": [
    "# What is an optimization problem?\n",
    "\n",
    "A general mathematical formulation for **the optimization problems studied on this course** is\n",
    "$$\n",
    "\\begin{align} \\\n",
    "\\min \\quad &f(x)\\\\\n",
    "\\text{s.t.} \\quad & g_j(x) \\geq 0\\text{ for all }j=1,\\ldots,J\\\\\n",
    "& h_k(x) = 0\\text{ for all }k=1,\\ldots,K\\\\\n",
    "&x\\in \\mathbb R^n.\n",
    "\\end{align}\n",
    "$$\n",
    "\n",
    "The above problem can be expressed as \n",
    ">Find an $x\\in \\mathbb R^n$ such that $g_j(x)\\geq 0$ for all $j=1,\\ldots,J$ and $h_k(x)=0$ for all $k=1,\\ldots,K$, and there does not exist $x'\\in \\mathbb R^n$ such that $f(x')<f(x)$ and $g_j(x')\\geq 0$ for all $j=1,\\ldots,J$, $h_k(x')=0$ for all $k=1,\\ldots,K$."
   ]
  },
  {
   "cell_type": "markdown",
   "metadata": {
    "slideshow": {
     "slide_type": "subslide"
    }
   },
   "source": [
    "There are three main components to an optimization problem:\n",
    "* the variables $x$ are called the **decision variables**,\n",
    "* the equalities and inequalities $g_j(x)\\geq 0$ and $h_k(x)=0$ are called the **constraints**,\n",
    "* the funtion $f(x)$ is called the **objective function**.\n",
    "\n",
    "Values of decision variables $x^*$ are called **solutions** and a solution is called\n",
    "* **feasible** if $g_j(x^*)\\geq 0$ for all $j=1,\\ldots,J$, $h_k(x^*)=0$ for all $k=1,\\ldots,K$,\n",
    "* **locally optimal** if $x^*$ is feasible and there exists $r>0$ such that there does not exist a feasible solution $x'\\in \\operatorname{B}(x^*,r)$ such that $f(x')<f(x^*)$, and\n",
    "* **optimal** if $x^*$ is feasible and there does not exist a feasible solution $x'$ such that $f(x')<f(x^*)$.\n",
    "\n",
    "The problem is called\n",
    "* **linear/nonlinear** if the objective function and the constraints of the problem are/are not affinely linear,\n",
    "* **multi/unimodal** if the problem has/does not have more than one local optimum,\n",
    "* **convex/nonconvex** if the objective and the constraints are that,\n",
    "* **continuous/differentiable/twice-differentiable, etc** if the objective and the constraints are that.\n"
   ]
  },
  {
   "cell_type": "markdown",
   "metadata": {
    "slideshow": {
     "slide_type": "slide"
    }
   },
   "source": [
    "## Why do we study optimization problems? \n",
    "\n",
    "Because optimization problems arise in various fields engineering, finance, medicine etc."
   ]
  },
  {
   "cell_type": "markdown",
   "metadata": {
    "slideshow": {
     "slide_type": "subslide"
    }
   },
   "source": [
    "### Mixing problem\n",
    "Refinery produces 3 types of gasoline by mixing 3 different grude oil. Each grude oil can be purchased maximum of 5000 barrels per day. Let us assume that octane values and lead concentrations behave linearly in mixing. Refining costs are 4\\$ per barrel and the capacity of the refinery is 14000 barrels per day. Demand of gasoline can be increased by (demand grows 10 barrels per day for each \\$ used for advertizing). The details of the gasolines and Grude oils can be found in the following tables:\n",
    "\n",
    "| |Gasoline 1|Gasoline 2|Gasoline 3|\n",
    "|---|---|---|---|\n",
    "|Sale price|70|60|50|\n",
    "|Lower limit for octane|10|8|6|\n",
    "|Upper limit for lead|0.01|0.02|0.01|\n",
    "|Demand|3000|2000|1000|\n",
    "|Refining cost|4|4|4|\n",
    "\n",
    "| |Grude oil 1|Grude oil 2|Grude oil 3|\n",
    "|---|---|---|---|\n",
    "|Purchase price|45|35|25|\n",
    "|Octane value|12|6|8|\n",
    "|Lead concentration|0.005|0.02|0.03|\n",
    "|Availability|5000|5000|5000|\n",
    "\n",
    "\n",
    "Determine the production quantities of each type of gasoline, mixing ratios of different grude oil and advertising budget so that the profit is maximized and the demand is met exactly."
   ]
  },
  {
   "cell_type": "markdown",
   "metadata": {
    "slideshow": {
     "slide_type": "subslide"
    }
   },
   "source": [
    "#### Modelling mixing problem as an optimization problem:\n",
    "* decision variables\n",
    "    * $x_{ij}$ = amount of grude oil $i$ used for producing gasoline $j$\n",
    "    * $y_j$ = the amount of money used for advertizing gasoline $j$\n",
    "* constraints\n",
    "    * gasoline 1 demand: $x_{1,1}+x_{2,1}+x_{3,1}=3000+10y_1$\n",
    "    * gasoline 2 demand: $x_{1,2}+x_{2,2}+x_{3,2}=2000+10y_2$\n",
    "    * gasoline 3 demand: $x_{1,3}+x_{2,3}+x_{3,3}=1000+10y_3$\n",
    "    * grude oil 1 availability: $x_{1,1}+x_{1,2}+x_{1,3}\\leq 5000$\n",
    "    * grude oil 2 availability: $x_{2,1}+x_{2,2}+x_{2,3}\\leq 5000$\n",
    "    * grude oil 3 availability: $x_{3,1}+x_{3,2}+x_{3,3}\\leq 5000$\n",
    "    * gasoline 1 octave value: $\\frac{12x_{1,1}+6x_{2,1}+8x_{3,1}}{x_{1,1}+x_{2,1}+x_{3,1}}\\geq 10$\n",
    "    * gasoline 2 octave value: $\\frac{12x_{1,2}+6x_{2,2}+8x_{3,2}}{x_{1,2}+x_{2,2}+x_{3,2}}\\geq 8$\n",
    "    * gasoline 3 octave value: $\\frac{12x_{1,3}+6x_{2,3}+8x_{3,3}}{x_{1,3}+x_{2,3}+x_{3,3}}\\geq 6$\n",
    "    * gasoline 1 lead value: $\\frac{0.005x_{1,1}+0.02x_{2,1}+0.03x_{3,1}}{x_{1,1}+x_{2,1}+x_{3,1}}\\leq 0.01$\n",
    "    * gasoline 2 lead value: $\\frac{0.005x_{1,2}+0.02x_{2,2}+0.03x_{3,2}}{x_{1,2}+x_{2,2}+x_{3,2}}\\leq 0.02$\n",
    "    * gasoline 3 lead value: $\\frac{0.005x_{1,3}+0.02x_{2,3}+0.03x_{3,3}}{x_{1,3}+x_{2,3}+x_{3,3}}\\leq 0.01$\n",
    "* objective function:\n",
    "$$\n",
    "70(x_{1,1}+x_{2,1}+x_{3,1})+60(x_{1,2}+x_{2,2}+x_{3,2})+50(x_{1,3}+x_{2,3}+x_{3,3})-45(x_{1,1}+x_{1,2}+x_{1,3})-35(x_{2,1}+x_{2,2}+x_{2,3})-25(x_{3,1}+x_{3,2}+x_{3,3})\n",
    "$$"
   ]
  },
  {
   "cell_type": "markdown",
   "metadata": {
    "slideshow": {
     "slide_type": "slide"
    }
   },
   "source": [
    "# How to solve optimization problems?\n",
    "\n",
    "## Iterative vs. non-iterative methods\n",
    "\n",
    "Optimal solutions to some optimization problems can be found by defining an explicit formula for it. For example, if the objective function is twice continuously differentiable and there are no constraints, the optimal solution (if exists) can be found by calculating all the zero-points of the gradient and finding the best one of those. In this kind of cases, the optimization problem **can be solved using non-iterative methods.**\n",
    "\n",
    "**In this course we concentrate on the iterative methods.** Iterative methods are needed, if the problem has constraints, or the problem is in some other way not-well behaved (to be defined later, depending on the context). In iterative methods, the solving the optimizaiton problem starts from a so-called starting solution and then tries to improve the solution iteratively. The optimization algorithm chooses how the solution is changed at each iteration.\n",
    "\n",
    "\n",
    "\n",
    "## What kind of methods will you learn in this course?\n",
    "Different optimization problems require different methods. In this course, we study optimization problems, which are\n",
    "* non-linear\n",
    "* not hugely multimodal\n",
    "\n",
    "Often the methods cannot guarantee a (global) optimum, but instead **we need to satisfy ourselves with a local optimum**. In addition, it is usually not possible to find the actual optimal solution, but instead **an approximation of the optimal solution**. A feasible solution $x^*$ is called an approximation of a local optimum $x^{**}$ with quality $L>0$, when $\\|x^*-x^{**}\\|\\leq L$.\n"
   ]
  },
  {
   "cell_type": "markdown",
   "metadata": {
    "collapsed": true,
    "slideshow": {
     "slide_type": "slide"
    }
   },
   "source": [
    "# Line search\n",
    "\n",
    "Let us study optimization problem $\\min_{x\\in[a,b]} f(x)$, where $a,b\\in\\mathbb R$. Let us try to find an approximation of a local optimum to this problem. "
   ]
  },
  {
   "cell_type": "code",
   "execution_count": 1,
   "metadata": {
    "collapsed": true
   },
   "outputs": [],
   "source": [
    "#Example objective function\n",
    "def f(x):\n",
    "    return 2+(1-x)**2"
   ]
  },
  {
   "cell_type": "code",
   "execution_count": 3,
   "metadata": {
    "collapsed": false
   },
   "outputs": [
    {
     "name": "stdout",
     "output_type": "stream",
     "text": [
      "Value of the objective function at 3 is 6\n"
     ]
    }
   ],
   "source": [
    "print \"Value of the objective function at 3 is \" + str(f(3))"
   ]
  },
  {
   "cell_type": "markdown",
   "metadata": {
    "slideshow": {
     "slide_type": "subslide"
    }
   },
   "source": [
    "## Line search with fixed steps\n",
    "**input:** the quality $L>0$ of the approximation of the local optimum.  \n",
    "**output:** an approximation of the local optimum with quality $L$.\n",
    "```\n",
    "start with x as the start point of the interval\n",
    "loop until stops:\n",
    "    if the value of the objective is increasing for x+L from x\n",
    "        stop, because the approximation of the locally optimal solution is x \n",
    "    increase x by L\n",
    "```"
   ]
  },
  {
   "cell_type": "code",
   "execution_count": 4,
   "metadata": {
    "collapsed": true
   },
   "outputs": [],
   "source": [
    "def fixed_steps_line_search(a,b,f,L):\n",
    "    x = a\n",
    "    while f(x)<f(x+L):\n",
    "        x=x+L"
   ]
  },
  {
   "cell_type": "code",
   "execution_count": 6,
   "metadata": {
    "collapsed": false
   },
   "outputs": [],
   "source": [
    "#%timeit fixed_steps_line_search(0,3,f,1e-3)"
   ]
  },
  {
   "cell_type": "markdown",
   "metadata": {
    "slideshow": {
     "slide_type": "subslide"
    }
   },
   "source": [
    "## The method of bisection\n",
    "**input:** the quality $L>0$ of the approximation of the local optimum.  \n",
    "**output:** an approximation of the local optimum with quality $L$.\n",
    "```\n",
    "Set x as the start point of interval and y as the end point\n",
    "while y-x<2*L:\n",
    "    if the function is increasing at the mid point between x and y:\n",
    "        set y as the midpoint between y and x, because a local optimum is before the midpoint\n",
    "    otherwise:\n",
    "        set x as the midpoint, because a local optimum is after the midpoint\n",
    "return midpoint between x and y\n",
    "```"
   ]
  },
  {
   "cell_type": "code",
   "execution_count": null,
   "metadata": {
    "collapsed": false
   },
   "outputs": [],
   "source": [
    "def bisection_line_search(a,b,f,L,epsilon):\n",
    "    "
   ]
  },
  {
   "cell_type": "code",
   "execution_count": 13,
   "metadata": {
    "collapsed": false,
    "slideshow": {
     "slide_type": "skip"
    }
   },
   "outputs": [],
   "source": [
    "def bisection_line_search(a,b,f,L,epsilon):\n",
    "    x = a\n",
    "    y = b\n",
    "    while y-x<2*L:\n",
    "        if f((x+y)/2-epsilon)<f((x+y)/2+epsilon):\n",
    "            y = (x+y)/2+epsilon\n",
    "        else:\n",
    "            x = (x+y)/2-epsilon\n",
    "    return (x+y)/2\n",
    "    "
   ]
  },
  {
   "cell_type": "code",
   "execution_count": 14,
   "metadata": {
    "collapsed": false
   },
   "outputs": [
    {
     "name": "stdout",
     "output_type": "stream",
     "text": [
      "1\n"
     ]
    }
   ],
   "source": [
    "#%timeit \n",
    "x = bisection_line_search(0,3,f,1e-3,1e-10)\n",
    "print x"
   ]
  },
  {
   "cell_type": "markdown",
   "metadata": {
    "slideshow": {
     "slide_type": "subslide"
    }
   },
   "source": [
    "## Golden section search\n",
    "\n",
    "### Golden section\n",
    "\n",
    "Let $a<c<b$ be such that $\\frac{b-a}{c-a}=\\frac{c-a}{b-c}$. Then it is said that the point $c$ devides interval $[a,b]$ in the ratio of golden section (from the left, mirror from the right). Note that $c=a+\\frac{\\sqrt{5}-1}2(b-a)\\approx a+0.618(b-a)$.\n",
    "\n",
    "![alt text](images/golden_section.png \"Golden section\")\n",
    "\n",
    "There is a theorem that if $a<c<d<b$ and both points divide the interval $[a,b]$ in the ratio of golden section (from right and left), then the point $c$ divides the interval $[a,d]$ in the ratio of golder ration from the left.\n",
    "\n",
    "![alt text](images/golden_section2.svg \"Golden section from the left and right\")\n",
    "\n",
    "### Golden section search algorithm\n",
    "\n",
    "\n",
    "**input:** the quality $L>0$ of the approximation of the local optimum.  \n",
    "**output:** an approximation of the local optimum with quality $L$.\n",
    "```\n",
    "Set x as the start point of interval and y as the end point\n",
    "while y-x<2*L:\n",
    "    Divide the interval [x,y] in the golden section from the letf and right and attain two division points\n",
    "    If the greater of the division points has a greater function value \n",
    "        set y as the rightmost division point, because a local optimum is before that\n",
    "    otherwise:\n",
    "        set x as the leftmost division point, because a local optimum is after that\n",
    "return midpoint between x and y\n",
    "```"
   ]
  },
  {
   "cell_type": "code",
   "execution_count": null,
   "metadata": {
    "collapsed": false,
    "slideshow": {
     "slide_type": "-"
    }
   },
   "outputs": [],
   "source": [
    "import scipy\n",
    "def golden_section_line_search(a,b,f,L):\n",
    "    x = a\n",
    "    y = b\n",
    "    while y-x<2*L:\n",
    "\n",
    "    return (x+y)/2"
   ]
  },
  {
   "cell_type": "code",
   "execution_count": 7,
   "metadata": {
    "collapsed": false,
    "slideshow": {
     "slide_type": "skip"
    }
   },
   "outputs": [],
   "source": [
    "import scipy\n",
    "def golden_section_line_search(a,b,f,L):\n",
    "    x = a\n",
    "    y = b\n",
    "    while y-x<2*L:\n",
    "        if f(x+(scipy.math.sqrt(5)-1)/2*(y-x))<f(y-(scipy.math.sqrt(5)-1)/2*(y-x)):\n",
    "            y = y-(scipy.math.sqrt(5)-1)/2*(y-x)\n",
    "        else:\n",
    "            x = x+(scipy.math.sqrt(5)-1)/2*(y-x)\n",
    "    return (x+y)/2"
   ]
  },
  {
   "cell_type": "code",
   "execution_count": 11,
   "metadata": {
    "collapsed": false
   },
   "outputs": [
    {
     "name": "stdout",
     "output_type": "stream",
     "text": [
      "1\n"
     ]
    }
   ],
   "source": [
    "#%timeit\n",
    "x = golden_section_line_search(0,3,f,0.01)\n",
    "print x"
   ]
  }
 ],
 "metadata": {
  "celltoolbar": "Slideshow",
  "kernelspec": {
   "display_name": "Python 2",
   "language": "python",
   "name": "python2"
  },
  "language_info": {
   "codemirror_mode": {
    "name": "ipython",
    "version": 2
   },
   "file_extension": ".py",
   "mimetype": "text/x-python",
   "name": "python",
   "nbconvert_exporter": "python",
   "pygments_lexer": "ipython2",
   "version": "2.7.11"
  }
 },
 "nbformat": 4,
 "nbformat_minor": 0
}
