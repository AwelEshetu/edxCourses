{
 "cells": [
  {
   "cell_type": "markdown",
   "metadata": {},
   "source": [
    "# Exercises 1, answers"
   ]
  },
  {
   "cell_type": "markdown",
   "metadata": {
    "slideshow": {
     "slide_type": "slide"
    }
   },
   "source": [
    "## Exercise 1"
   ]
  },
  {
   "cell_type": "markdown",
   "metadata": {},
   "source": [
    "Let points be the the amount of $points$ that you received in this course and $points_{MAX}$ the maximum amount of points. "
   ]
  },
  {
   "cell_type": "markdown",
   "metadata": {},
   "source": [
    "Then, if $\\frac{points}{points_{MAX}}=0.5$ then your grade is 1. If $\\frac{points}{points_{MAX}}=0.9$ then your grade is $5$. Since the hint said that you can make the function linear, let us use function $a\\frac{points}{points_{MAX}}+c$, where $a$ and $c$ are constants."
   ]
  },
  {
   "cell_type": "markdown",
   "metadata": {},
   "source": [
    "This means that $0.5a+c=1$ and $0.9a+c=5$. Solving this equation gives $a=10$ and $c=-4$. One verify that the function that we are looking for is $10\\frac{points}{points_{MAX}}-4$."
   ]
  },
  {
   "cell_type": "markdown",
   "metadata": {
    "slideshow": {
     "slide_type": "subslide"
    }
   },
   "source": [
    "Thus, the implementation of the function is:"
   ]
  },
  {
   "cell_type": "code",
   "execution_count": 3,
   "metadata": {
    "collapsed": true
   },
   "outputs": [],
   "source": [
    "def arvosana(points,points_MAX):\n",
    "    return 10.0*points/points_MAX-4"
   ]
  },
  {
   "cell_type": "markdown",
   "metadata": {},
   "source": [
    "Testing:"
   ]
  },
  {
   "cell_type": "code",
   "execution_count": 11,
   "metadata": {
    "collapsed": false
   },
   "outputs": [
    {
     "name": "stdout",
     "output_type": "stream",
     "text": [
      "With 50 points, one gets grade 1 if the maximum number of points is 100\n"
     ]
    }
   ],
   "source": [
    "print \"With 50 points, one gets grade \" + str(int(arvosana(50,100))) + \" if the maximum number of points is 100\""
   ]
  },
  {
   "cell_type": "code",
   "execution_count": 10,
   "metadata": {
    "collapsed": false
   },
   "outputs": [
    {
     "name": "stdout",
     "output_type": "stream",
     "text": [
      "With 65 points, one gets grade 2 if the maximum number of points is 100\n"
     ]
    }
   ],
   "source": [
    "print \"With 65 points, one gets grade \" + str(int(arvosana(60,100))) + \" if the maximum number of points is 100\""
   ]
  },
  {
   "cell_type": "markdown",
   "metadata": {
    "slideshow": {
     "slide_type": "slide"
    }
   },
   "source": [
    "## Exercise 2"
   ]
  },
  {
   "cell_type": "markdown",
   "metadata": {},
   "source": [
    "Now, we can go through all the possible numbers of points, because there is a small number of them. That is, no actual optimization method needed."
   ]
  },
  {
   "cell_type": "code",
   "execution_count": 23,
   "metadata": {
    "collapsed": false
   },
   "outputs": [],
   "source": [
    "def min_points(grade,points_MAX):\n",
    "    feasible_points = [points for points in range(1,points_MAX+1) if arvosana(points,points_MAX)>=grade]\n",
    "    return min(feasible_points)"
   ]
  },
  {
   "cell_type": "markdown",
   "metadata": {},
   "source": [
    "The following function does the same, but does not use a constructor."
   ]
  },
  {
   "cell_type": "code",
   "execution_count": 24,
   "metadata": {
    "collapsed": true
   },
   "outputs": [],
   "source": [
    "def min_points_without_constructor(grade,points_MAX):\n",
    "    feasible_points = []\n",
    "    for points in range(1,points_MAX+1):\n",
    "        if arvosana(points,points_MAX)>=grade:\n",
    "            feasible_points.append(points)\n",
    "    return min(feasible_points)"
   ]
  },
  {
   "cell_type": "markdown",
   "metadata": {},
   "source": [
    "Using a constructor is faster:"
   ]
  },
  {
   "cell_type": "code",
   "execution_count": 25,
   "metadata": {
    "collapsed": false
   },
   "outputs": [
    {
     "name": "stdout",
     "output_type": "stream",
     "text": [
      "10000 loops, best of 3: 24.5 µs per loop\n"
     ]
    }
   ],
   "source": [
    "%timeit min_points(4,100)"
   ]
  },
  {
   "cell_type": "code",
   "execution_count": 26,
   "metadata": {
    "collapsed": false
   },
   "outputs": [
    {
     "name": "stdout",
     "output_type": "stream",
     "text": [
      "10000 loops, best of 3: 25.6 µs per loop\n"
     ]
    }
   ],
   "source": [
    "%timeit min_points_without_constructor(4,100)"
   ]
  },
  {
   "cell_type": "markdown",
   "metadata": {},
   "source": [
    "### Testing:"
   ]
  },
  {
   "cell_type": "code",
   "execution_count": 20,
   "metadata": {
    "collapsed": false
   },
   "outputs": [
    {
     "name": "stdout",
     "output_type": "stream",
     "text": [
      "If the maximum number of points is 100 and you want grade 3, then you need to get at least 70 points\n"
     ]
    }
   ],
   "source": [
    "print \"If the maximum number of points is 100 and you want grade 3, then you need to get at least \" +str(min_points(3,100)) + \" points\""
   ]
  },
  {
   "cell_type": "code",
   "execution_count": 19,
   "metadata": {
    "collapsed": false
   },
   "outputs": [
    {
     "name": "stdout",
     "output_type": "stream",
     "text": [
      "If the maximum number of points is 75 and you want grade 2, then you need to get at least 45 points\n"
     ]
    }
   ],
   "source": [
    "print \"If the maximum number of points is 75 and you want grade 2, then you need to get at least \" +str(min_points(2,75)) + \" points\""
   ]
  }
 ],
 "metadata": {
  "celltoolbar": "Slideshow",
  "kernelspec": {
   "display_name": "Python 2",
   "language": "python",
   "name": "python2"
  },
  "language_info": {
   "codemirror_mode": {
    "name": "ipython",
    "version": 2
   },
   "file_extension": ".py",
   "mimetype": "text/x-python",
   "name": "python",
   "nbconvert_exporter": "python",
   "pygments_lexer": "ipython2",
   "version": "2.7.5"
  }
 },
 "nbformat": 4,
 "nbformat_minor": 0
}
