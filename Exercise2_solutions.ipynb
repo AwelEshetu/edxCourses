{
 "cells": [
  {
   "cell_type": "markdown",
   "metadata": {},
   "source": [
    "# Exercise 2\n",
    "* Due: 21.11. at noon\n",
    "* Max points: 8"
   ]
  },
  {
   "cell_type": "markdown",
   "metadata": {},
   "source": [
    "## General rules\n",
    "* Send the source code or the written notes of your answers as an attachment to markus.hartikainen@jyu.fi before the due time\n",
    "* You will get feedback about your answers a week from the due date\n",
    "* From the second week on, the exercises will be given on the previous Wednesday's lecture"
   ]
  },
  {
   "cell_type": "markdown",
   "metadata": {},
   "source": [
    "## Exercises\n",
    "\n",
    "1. **(2 points)** Assume that that you are buying and selling electricity. The more electricity you buy, the better price you get per kwH and the buying prize of water follows function $f(x) = 1-0.01x$, where $0\\leq x\\leq50$ is the amount of electricity you buy. On the other hand, the price that you get from selling electricity follows function $g(x) = 2-0.01x^2$ with $x$ again the amount of electricity that you sell. Formulate an optimization problem that maximizes the profit.\n",
    "2. **(2 points)** Use bisection search to optimize problem\n",
    "$$\n",
    "\\begin{align}\n",
    "\\min & (1-x)^2+x\\\\\n",
    "\\text{s.t. }&x\\in [0,2].\n",
    "\\end{align}\n",
    "$$\n",
    "3. **(2 points)** Use golden section search to optimize the problem from above exercise.\n",
    "4. **(2 points)** Use differentiation to optimize the optimization problem of exercise 1 and to verify the answer of optimization problem 2.\n"
   ]
  },
  {
   "cell_type": "markdown",
   "metadata": {},
   "source": [
    "# Solutions"
   ]
  },
  {
   "cell_type": "code",
   "execution_count": null,
   "metadata": {
    "collapsed": true
   },
   "outputs": [],
   "source": [
    "#solutiion 1\n",
    "#formulate optimization problem\n",
    "\n",
    "max (g(x)=2-0.01x**2)\n",
    "s.t f(x)=1-0.01x ∈[0,50]. \n",
    "\n"
   ]
  },
  {
   "cell_type": "code",
   "execution_count": 5,
   "metadata": {
    "collapsed": false
   },
   "outputs": [
    {
     "data": {
      "text/plain": [
       "0.499561767578125"
      ]
     },
     "execution_count": 5,
     "metadata": {},
     "output_type": "execute_result"
    }
   ],
   "source": [
    "#solution 2\n",
    "#solve the given equation with bisection_line_search method\n",
    "\n",
    "def f(x):\n",
    "    return (1-x+pow(x,2))\n",
    "\n",
    "def bisection_line_search(a,b,f,L,epsilon):\n",
    "    x = a\n",
    "    y = b\n",
    "    while y-x>2*L:\n",
    "        if f((x+y)/2-epsilon)<f((x+y)/2+epsilon):\n",
    "            y = (x+y)/2+epsilon\n",
    "        else:\n",
    "            x = (x+y)/2-epsilon\n",
    "    return (x+y)/2\n",
    "\n",
    "bisection_line_search(0.0,2.0,f,1e-3,1e-4)"
   ]
  },
  {
   "cell_type": "code",
   "execution_count": 4,
   "metadata": {
    "collapsed": false
   },
   "outputs": [
    {
     "data": {
      "text/plain": [
       "0.5000865351358561"
      ]
     },
     "execution_count": 4,
     "metadata": {},
     "output_type": "execute_result"
    }
   ],
   "source": [
    "#solution 3\n",
    "#solve the above problem with golden_section_line_search method\n",
    "import math\n",
    "\n",
    "def f(x):\n",
    "    return (1-x+pow(x,2))\n",
    "\n",
    "def golden_section_line_search(a,b,f,L):\n",
    "    x = a\n",
    "    y = b\n",
    "    while y-x>2*L:\n",
    "        if f(x+(math.sqrt(5.0)-1)/2.0*(y-x))<f(y-(math.sqrt(5.0)-1)/2.0*(y-x)):\n",
    "            x = y-(math.sqrt(5.0)-1)/2.0*(y-x)\n",
    "        else:\n",
    "            y = x+(math.sqrt(5.0)-1)/2.0*(y-x)\n",
    "    return (x+y)/2\n",
    "\n",
    "golden_section_line_search(0.0,2.0,f,1e-3)"
   ]
  },
  {
   "cell_type": "code",
   "execution_count": null,
   "metadata": {
    "collapsed": true
   },
   "outputs": [],
   "source": [
    "#solution 4\n",
    "#solve problem #1 with differentiation approach and verify the answer of problem #2\n",
    "\n",
    "## verfiying the answer for problem #2\n",
    "   #max or min value of a function can be calcuated by equating it's first derivative to zero.\n",
    "    #thus the first derivative of \n",
    "    f(x)=1-x+pow(x,2) is f'(x)=2x-1\n",
    "    #then to solve for x we equate \n",
    "    f'(x)=0 -> 2x-1=0 ->2x=1 -> x=0.5\n",
    "    #verifying that the answers by both methods (bisection_line_search and golden_section_line_search )\n",
    "    #give colser guesses  "
   ]
  },
  {
   "cell_type": "code",
   "execution_count": null,
   "metadata": {
    "collapsed": true
   },
   "outputs": [],
   "source": [
    "#solution 4 \n",
    "#solve problem #1 with differentiation approach \n",
    "#given \n",
    "f(x)=1-0.01x ,g(x)=2-0.01x**2 and 0<= x <=50\n",
    "#we need to maximize g(x) when x=f(x) , i.e g(x)=2-0.01(f(x))**2 ->g(x)=2-0.01(1-0.01x)**2 \n",
    "#simplifying g(x) from above derivate it we get the solution x=0.5\n",
    "\n"
   ]
  }
 ],
 "metadata": {
  "kernelspec": {
   "display_name": "Python 2",
   "language": "python",
   "name": "python2"
  },
  "language_info": {
   "codemirror_mode": {
    "name": "ipython",
    "version": 2
   },
   "file_extension": ".py",
   "mimetype": "text/x-python",
   "name": "python",
   "nbconvert_exporter": "python",
   "pygments_lexer": "ipython2",
   "version": "2.7.9"
  }
 },
 "nbformat": 4,
 "nbformat_minor": 0
}
