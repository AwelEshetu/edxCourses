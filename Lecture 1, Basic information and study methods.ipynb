{
 "cells": [
  {
   "cell_type": "markdown",
   "metadata": {
    "slideshow": {
     "slide_type": "slide"
    }
   },
   "source": [
    "# TIES483 Nonlinear optimization\n",
    "* 5 credits\n",
    "* First Spring Term 2016\n",
    "* Post-doctoral researcher Markus hartikainen (markus.hartikainen@jyu.fi)\n",
    "\n",
    "## General information\n",
    "Level: Master level course in mathematical information technology (*Tietotekniikka in Finnish*). Mandatory course for MSc studies in computational sciences."
   ]
  },
  {
   "cell_type": "markdown",
   "metadata": {
    "slideshow": {
     "slide_type": "subslide"
    }
   },
   "source": [
    "## Contents \n",
    "Optimization of functions of a single variable (line search). Optimization of functions with several variables with and without constraints. Optimality conditions. Software for nonlinear optimization.\n",
    "\n",
    "This course deals with methods that most can be classified as\n",
    "* local optimization methods, which converge to the nearest local optimum\n",
    "* point-by-point i.e., non-population based (population based methods are taught on *TIES451 Selected topics in soft computing*)\n",
    "* single-objective (more multi objective is taught on *TIES598 Nonlinear Multiobjective Optimization*)\n",
    "* based on a continuous mathematical model of the phenomena (data-based optimization aka *prescriptive analytics* is taught on *TIES583 Mathematical Programming, Part 2*)\n",
    "\n",
    "## Prerequisites \n",
    "\n",
    "* Basic knowledge on optimization (e.g. course TIEA382 Linear and discrete optimization) and numerical methods as well as basic programming skills.\n",
    "* Basic knowledge on mathematical analysis of functions of multiple variables.\n",
    "\n",
    "## Contact teaching\n",
    "Lectures (<i>in English</i>): 36 h, Mon 12-14 and Wed 14-16 in room Ag C233 11.1.-9.3.2016\n",
    "\n",
    "Exercise feedback sessions (demos): 18h, Thu 12-14 in room Ag C231 14.1.-10.3.2016"
   ]
  },
  {
   "cell_type": "markdown",
   "metadata": {
    "slideshow": {
     "slide_type": "subslide"
    }
   },
   "source": [
    "## Passing the course\n",
    "During this course you will be given\n",
    "* a number of excercises (one each week) and\n",
    "* one slightly bigger assignment.\n",
    "\n",
    "Excercises will comprise 70% of the points and the assignment will comprise 30% of the points. We will follow the following grading:\n",
    "* Over 90% of the points -> grade 5,\n",
    "* Over 80% of the points -> grade 4,\n",
    "* Over 70% of the points -> grade 3,\n",
    "* Over 60% of the points -> grade 2,\n",
    "* Over 50% of the points -> grade 1, and\n",
    "* Less than 50% of the points -> failed."
   ]
  },
  {
   "cell_type": "markdown",
   "metadata": {
    "slideshow": {
     "slide_type": "subslide"
    }
   },
   "source": [
    "## Course plan\n",
    "\n",
    "**Introduction**\n",
    "    1. First hour: Basic information about the course and study methods (Python, Jupyter etc.); second hour: A very fast introduction to Python and Jupyter using https://github.com/jrjohansson/scientific-python-lectures.\n",
    "    2. The very basics: what is an optimization problem, how to solve one, and line search\n",
    "**Unconstrained optimization**\n",
    "    3. Direct search methods: Coordinate descent, Hooke&Jeeves, and Powell's methods \n",
    "    4. Steepest Descent and Newton's method for unrestricted optimization\n",
    "    5. Example of using available software: scipy.optimize\n",
    "**Constrained optimization**\n",
    "    6. Optimality conditions\n",
    "    7. Indirect methods for constrained optimization\n",
    "    8. Direct methods for constrained optimization (part 1)\n",
    "    9. Direct methods for constrained optimization (part 2)\n",
    "**Multiobjective optimization**\n",
    "    10. What is multiobjective optimization\n",
    "    11. How to solve multiobjective optimization problems\n",
    "**Applications of optimization**\n",
    "    12. Applications of optimization (part 1)\n",
    "    13. Applications of optimization (part 2)\n",
    "**Optimization software**\n",
    "    14. Algebraic modeling languages, especially Pyomo\n",
    "    15. IND-NIMBUS(R)\n",
    "**Wrapping up**\n",
    "    16. How to find and read scientific papers in the field\n",
    "    17. Further topics and current research in optimization\n",
    "    18. Review\n",
    "    "
   ]
  },
  {
   "cell_type": "markdown",
   "metadata": {
    "slideshow": {
     "slide_type": "slide"
    }
   },
   "source": [
    "# Study methods\n",
    "## Python and Jupyter\n",
    "As the programming language Python 2.7, is used on this course. The course is taught using Jupyter notebooks (http://ipython.org/notebook.html, formerly known as IPython notebooks).\n",
    "## Github\n",
    "The source code of the Jupyter notebooks thought in this course will be available at Github at https://github.com/maeehart/TIES483.\n",
    "## Livereveal\n",
    "The Jupyter notebooks will be transferred to slides using https://github.com/damianavila/RISE. To view the contents at home, you do not need to have this installed."
   ]
  },
  {
   "cell_type": "markdown",
   "metadata": {
    "slideshow": {
     "slide_type": "subslide"
    }
   },
   "source": [
    "## Getting started\n",
    "### Option 1 (recommended)\n",
    "1. Install on a laptop or desktop that you control,\n",
    "    * Python and Jupyter  (see e.g., https://github.com/jrjohansson/scientific-python-lectures/blob/master/Lecture-0-Scientific-Computing-with-Python.ipynb.\n",
    "    * Git (see e.g., https://git-scm.com/book/en/v2/Getting-Started-Installing-Git)\n",
    "2. Clone the repository on your machine using command\n",
    "```\n",
    "git clone git@github.com:maeehart/TIES483.git\n",
    "```\n",
    "3. Start Jupyter in the path of the repository\n",
    "4. Start learning!\n",
    "\n",
    "Always when the source has changed in Github, you need to do\n",
    "```\n",
    "git fetch --all\n",
    "git reset --hard origin/master\n",
    "```\n",
    "This will overwite all the changes that you have made to the materials and get the latest one.\n",
    "### Option 2\n",
    "1. Install a programming or scripting language that you prefer or use one already available on a computer that you have access to\n",
    "2. Follow the lectures from the Github page at ..\n",
    "3. Do exercises using your preferred language\n",
    "4. Keep on learning!\n"
   ]
  },
  {
   "cell_type": "markdown",
   "metadata": {},
   "source": [
    "## Contributing to the course materials\n",
    "TO BE DECIDED -- GOOD SUGGESTIONS ARE WELCOME"
   ]
  },
  {
   "cell_type": "markdown",
   "metadata": {
    "slideshow": {
     "slide_type": "slide"
    }
   },
   "source": [
    "# Additional stuff\n",
    "## Some nonlinear optimization literature\n",
    "<sup>\n",
    "* Juha Haataja, *Optimointitehtävien ratkaiseminen (in Finnish)*, CSC:n oppaat, 2004, <a href=\"http://www.csc.fi/cs/julkaisut/oppaat/index_html\">electronically available </a>\n",
    "* Fletcher: *Practical Methods of Optimization*, 1980, Vol. 1 & 2\n",
    "* Gill, Murray & Wright: *Practical Optimization*, 1981\n",
    "* Luenberger: *Linear and Nonlinear Programming*, 1984\n",
    "* Bazaraa, Sherali & Shetty: *Nonlinear Programming: Theory and Algorithms*, 1993 \n",
    "* Bertsekas: *Nonlinear Programming*, 1995\n",
    "* Nocedal & Wright: *Numerical Optimization*, 1999 \n",
    "* Biegler: *Nonlinear Programming: Concepts, Algorithms, and Applications to Chemical Processes*, 2010\n",
    "* Hinze, Pinnau, Ulbrich & Ulbrich: *Optimization with PDE Constraints*, 2009\n",
    "* Conn, Scheinberg & Vicente: *Introduction to Derivative-Free Optimization*, 2009\n",
    "* Talbi: *Metaheuristics - From Design to Implementation*, 2009\n",
    "</sup>"
   ]
  },
  {
   "cell_type": "markdown",
   "metadata": {
    "slideshow": {
     "slide_type": "subslide"
    }
   },
   "source": [
    "## Usefull links\n",
    "\n",
    "* <a href=\"http://glossary.computing.society.informs.org/\">Mathematical Programming Glossary </a><br>\n",
    "* <a href=\"http://www.neos-guide.org/non-lp-faq\">Nonlinear Programming Frequently Asked Questions</a><br>\n",
    "* <a href=\"http://www.mat.univie.ac.at/~neum/glopt.html\">Global Optimization</a>\n",
    "* <a href=\"http://www.mit.jyu.fi/optgroup/\">Industrial Optimization Group (JYU)</a><br>\n",
    "* <a href=\"http://nimbus.mit.jyu.fi/\">WWW-NIMBUS</a><br>\n",
    "* <a href=\"http://ind-nimbus.it.jyu.fi/\">IND-NIMBUS</a><br>\n",
    "* <a href=\"http://plato.asu.edu/guide.html\">Decision Tree for Optimization Software</a><br>\n",
    "* <a href=\"http://www.neos-guide.org/Optimization-Guide\">NEOS Guide: Optimization Software</a>\n",
    "* <a href=\"http://www.mathopt.org/\">Mathematical Optimization Society</a><br>\n",
    "* <a href=\"http://europt.iam.metu.edu.tr/\">EUROPT - The Continuous Optimization Working Group of EURO</a>\n",
    "* <a href=\"http://www.mcdmsociety.org/\">International Society on Multiple Criteria Decision Making </a>\n",
    "* <a href=\"http://www.operaatiotutkimus.fi/\">Finnish operations research society (FORS)</a><br>"
   ]
  },
  {
   "cell_type": "markdown",
   "metadata": {
    "slideshow": {
     "slide_type": "slide"
    }
   },
   "source": [
    "# Stuff from Jussi Hakanen from previous years\n",
    "\n",
    "\n",
    "* <a href=\"http://users.jyu.fi/~jhaka/opt/TIES483_introduction.pdf\">1. Introduction to nonlinear optimization (Mon 13.1.)</a><br>\n",
    "* <a href=\"http://users.jyu.fi/~jhaka/opt/TIES483_line_search.pdf\">2. On line search (Wed 15.1.)</a><br>\n",
    "* <a href=\"http://users.jyu.fi/~jhaka/opt/TIES483_unconstrained_direct.pdf\">3. Unconstrained optimization: direct search methods (Mon 20.1.)</a>\n",
    "* <a href=\"http://users.jyu.fi/~jhaka/opt/TIES483_unconstrained_gradient.pdf\">4. Unconstrained optimization: gradient-based methods (Part 1) (Wed 22.1.)</a>\n",
    "* <a href=\"http://users.jyu.fi/~jhaka/opt/TIES483_unconstrained_gradient2.pdf\">5. Unconstrained optimization: gradient-based methods (Part 2) (Mon 27.1.)</a>\n",
    "* <a href=\"http://users.jyu.fi/~jhaka/opt/TIES483_matlab_et_al.pdf\">6. Matlab's optimization toolbox for unconstrained optimization (Wed 29.1.)</a>\n",
    "* <a href=\"http://users.jyu.fi/~jhaka/opt/TIES483_constrained_optimality.pdf\">7. Constrained optimization: optimality conditions (Mon 3.2.)</a>\n",
    "* <a href=\"http://users.jyu.fi/~jhaka/opt/TIES483_constrained_indirect.pdf\">8. Constrained optimization: indirect methods (Wed 5.2.)</a>\n",
    "* <a href=\"http://users.jyu.fi/~jhaka/opt/TIES483_constrained_direct1.pdf\">9. Constrained optimization: direct methods (Part 1) (Mon 10.2.)</a>\n",
    "* <a href=\"http://users.jyu.fi/~jhaka/opt/TIES483_constrained_direct2.pdf\">10. Constrained optimization: direct methods (Part 2) (Wed 12.2.)</a>\n",
    "* <a href=\"http://users.jyu.fi/~jhaka/opt/TIES483_introduction_to_multiobjective_optimization.pdf\">11. Introduction to multiobjective optimization (Mon 17.2.)</a>\n",
    "* <a href=\"http://users.jyu.fi/~jhaka/opt/TIES483_how_to_search.pdf\">11(b). How to search for scientific publications (Mon 17.2.)</a>\n",
    "* <a href=\"http://users.jyu.fi/~jhaka/opt/TIES483_multiobjective_optimization_methods.pdf\">12. Multiobjective optimization methods (Wed 19.2.)</a>\n",
    "* <a href=\"http://users.jyu.fi/~jhaka/opt/TIES483_optimization_applications.pdf\">13. & 14. Applications of optimization (Mon 24.2. & Wed 26.2.)</a>\n",
    "* <a href=\"http://users.jyu.fi/~jhaka/opt/TIES483_optimization_software.pdf\">15. Optimization software (Mon 3.3.)</a>\n",
    "* <a href=\"http://users.jyu.fi/~jhaka/opt/TIES483_wrap_up.pdf\">16. Wrap-up (Wed 5.3.)</a>"
   ]
  },
  {
   "cell_type": "markdown",
   "metadata": {
    "slideshow": {
     "slide_type": "subslide"
    }
   },
   "source": [
    "## Exercises (demos)\n",
    "\n",
    "\n",
    "* <a href=\"http://users.jyu.fi/~jhaka/opt/demo1.pdf\">1. Wed 22.1.</a><br>\n",
    "* <a href=\"http://users.jyu.fi/~jhaka/opt/demo2.pdf\">2. Wed 29.1.</a><br>\n",
    "* <a href=\"http://users.jyu.fi/~jhaka/opt/demo3.pdf\">3. Wed 5.2.</a><br>\n",
    "* <a href=\"http://users.jyu.fi/~jhaka/opt/demo4.pdf\">4. Wed 12.2.</a><br>\n",
    "* <a href=\"http://users.jyu.fi/~jhaka/opt/demo5b.pdf\">5. Wed 19.2.</a><br>\n",
    "* <a href=\"http://users.jyu.fi/~jhaka/opt/demo6b.pdf\">6. Wed 26.2.</a><br>\n",
    "\n",
    "## Test problems for the programming assignment\n",
    "\n",
    "\n",
    "* <a href=\"http://users.jyu.fi/~jhaka/opt/README\">Instructions</a><br>\n",
    "* <a href=\"http://users.jyu.fi/~jhaka/opt/prob1.exe\">Problem 1</a><br>\n",
    "* <a href=\"http://users.jyu.fi/~jhaka/opt/prob2.exe\">Problem 2</a><br>\n",
    "* <a href=\"http://users.jyu.fi/~jhaka/opt/prob3.exe\">Problem 3</a><br>\n",
    "* <a href=\"http://users.jyu.fi/~jhaka/opt/prob4.exe\">Problem 4</a><br>"
   ]
  }
 ],
 "metadata": {
  "celltoolbar": "Slideshow",
  "kernelspec": {
   "display_name": "Python 2",
   "language": "python",
   "name": "python2"
  },
  "language_info": {
   "codemirror_mode": {
    "name": "ipython",
    "version": 2
   },
   "file_extension": ".py",
   "mimetype": "text/x-python",
   "name": "python",
   "nbconvert_exporter": "python",
   "pygments_lexer": "ipython2",
   "version": "2.7.5"
  }
 },
 "nbformat": 4,
 "nbformat_minor": 0
}
