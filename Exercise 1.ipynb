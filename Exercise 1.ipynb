{
 "cells": [
  {
   "cell_type": "markdown",
   "metadata": {},
   "source": [
    "# Exercise 1\n",
    "* Due: 14.11. at noon\n",
    "* Max points: 4"
   ]
  },
  {
   "cell_type": "markdown",
   "metadata": {},
   "source": [
    "## General rules\n",
    "* Send the source code or the written notes of your answers as an attachment to markus.hartikainen@jyu.fi before the due time\n",
    "* You will get feedback about your answers a week from the due date\n",
    "* From the second week on, the exercises will be given on the previous Wednesday's lecture"
   ]
  },
  {
   "cell_type": "markdown",
   "metadata": {},
   "source": [
    "## Exercises\n",
    "1. **(2 points)** Implement on a language of your choice function that calculates a continuous approximation of the grade of this course. That is, the function takes as input the number of points received in the course and the maximal number of points and gives as output a value so that the integer part of that is the grade. For example, output would be of maximal points 20 and 13 points, could be 2.5, and, thus, the grade is 2. Note that you can make the function linear.\n",
    "2. **(2 points)** Make a script that finds the minimum number of points that gives a given grade. That is, your script should take as input the maximal numbef of points and the desired grade. Your solution has to call the function defined in exercise 1. "
   ]
  }
 ],
 "metadata": {
  "kernelspec": {
   "display_name": "Python 2",
   "language": "python",
   "name": "python2"
  },
  "language_info": {
   "codemirror_mode": {
    "name": "ipython",
    "version": 2
   },
   "file_extension": ".py",
   "mimetype": "text/x-python",
   "name": "python",
   "nbconvert_exporter": "python",
   "pygments_lexer": "ipython2",
   "version": "2.7.5"
  }
 },
 "nbformat": 4,
 "nbformat_minor": 0
}
