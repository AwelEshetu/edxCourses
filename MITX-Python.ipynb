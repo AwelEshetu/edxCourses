{
 "cells": [
  {
   "cell_type": "markdown",
   "metadata": {},
   "source": [
    "Please think of a number between 0 and 100!\n",
    "Is your secret number 50?\n",
    "Enter 'h' to indicate the guess is too high. Enter 'l' to indicate the guess is too low. Enter 'c' to indicate I guessed correctly. l\n",
    "Is your secret number 75?\n",
    "Enter 'h' to indicate the guess is too high. Enter 'l' to indicate the guess is too low. Enter 'c' to indicate I guessed correctly. l\n",
    "Is your secret number 87?\n",
    "Enter 'h' to indicate the guess is too high. Enter 'l' to indicate the guess is too low. Enter 'c' to indicate I guessed correctly. h\n",
    "Is your secret number 81?\n",
    "Enter 'h' to indicate the guess is too high. Enter 'l' to indicate the guess is too low. Enter 'c' to indicate I guessed correctly. l\n",
    "Is your secret number 84?\n",
    "Enter 'h' to indicate the guess is too high. Enter 'l' to indicate the guess is too low. Enter 'c' to indicate I guessed correctly. h\n",
    "Is your secret number 82?\n",
    "Enter 'h' to indicate the guess is too high. Enter 'l' to indicate the guess is too low. Enter 'c' to indicate I guessed correctly. l\n",
    "Is your secret number 83?\n",
    "Enter 'h' to indicate the guess is too high. Enter 'l' to indicate the guess is too low. Enter 'c' to indicate I guessed correctly. c\n",
    "Game over. Your secret number was: 83\n"
   ]
  },
  {
   "cell_type": "code",
   "execution_count": 2,
   "metadata": {
    "collapsed": false
   },
   "outputs": [
    {
     "name": "stdout",
     "output_type": "stream",
     "text": [
      "Enter 'h' to indicate the guess is too high.       Enter 'l' to indicate the guess is too low.        Enter 'c' to indicate I guessed correctly.\n",
      "please think of a number between 0 and 100 ?\n",
      "Is your secret number 50 ?l\n",
      "Is your secret number 75 ?l\n",
      "Is your secret number 87 ?h\n",
      "Is your secret number 81 ?l\n",
      "Is your secret number 84 ?h\n",
      "Is your secret number 82 ?l\n",
      "Is your secret number 83 ?c\n",
      "Game over. Your sercret number was: 83\n"
     ]
    }
   ],
   "source": [
    "#set options (h,l,c) and prompt a guess from the user\n",
    "print(\"Enter 'h' to indicate the guess is too high.\\\n",
    "       Enter 'l' to indicate the guess is too low. \\\n",
    "       Enter 'c' to indicate I guessed correctly.\")\n",
    "\n",
    "print(\"please think of a number between 0 and 100 ?\")\n",
    "lower_bound=0\n",
    "upper_bound=100\n",
    "for num in range(lower_bound,upper_bound):\n",
    "    guess=raw_input(\"Is your secret number\" + \" \" +str((lower_bound + upper_bound)/2)+\" \"+ \"?\")\n",
    "    if guess=='h':\n",
    "        upper_bound=(lower_bound + upper_bound)/2\n",
    "    elif guess=='l':\n",
    "        lower_bound=(lower_bound + upper_bound)/2\n",
    "    elif guess=='c':\n",
    "        print (\"Game over. Your sercret number was:\" + \" \"+str((lower_bound + upper_bound)/2))\n",
    "        break\n",
    "    else:\n",
    "        print(\"Sorry, I did not understand your input.\")\n",
    "        \n",
    "        \n",
    "    \n"
   ]
  },
  {
   "cell_type": "markdown",
   "metadata": {},
   "source": [
    "...lessons to learn from this question are, how to print multiple statments using one print functio, prompt input from a user, check for input and evaluate it, change upper bound and lower bound according to user's answer, use 'str' to change intiger value to string before you concatenate it, break the loop after getting correct answer, handle the case for unknow answer choice . program tested on python visualizer."
   ]
  },
  {
   "cell_type": "markdown",
   "metadata": {},
   "source": [
    "# Counting Vowels, for a given string 's' of lowercase characters. ( so basically no need to convert or consider uppercase)"
   ]
  },
  {
   "cell_type": "code",
   "execution_count": 5,
   "metadata": {
    "collapsed": false
   },
   "outputs": [
    {
     "name": "stdout",
     "output_type": "stream",
     "text": [
      "Number of vowels: 16\n"
     ]
    }
   ],
   "source": [
    "vtotal=0\n",
    "s=\"aiemeixneilionaioensaneo\"\n",
    "for index in range(0,len(s)):\n",
    "    if s[index]=='a' or s[index]=='e' or s[index]=='i' or s[index]=='o' or s[index]=='u':\n",
    "        vtotal+=1\n",
    "print (\"Number of vowels:\" + \" \"+ str(vtotal))\n",
    "    \n"
   ]
  },
  {
   "cell_type": "markdown",
   "metadata": {},
   "source": [
    "Assume s is a string of lower case characters.\n",
    "\n",
    "Write a program that prints the number of times the string 'bob' occurs in s. For example, if s = 'azcbobobegghakl', then your program should print\n",
    "\n",
    "Number of times bob occurs is: 2"
   ]
  },
  {
   "cell_type": "code",
   "execution_count": 1,
   "metadata": {
    "collapsed": false
   },
   "outputs": [
    {
     "name": "stdout",
     "output_type": "stream",
     "text": [
      "Number of times bob occurs is: 2\n"
     ]
    }
   ],
   "source": [
    "#the length of the string 'bob' is three, there for we can extract substring of our parent string 's'\n",
    "#the length of our substring has to be 3 , which is starting point(num) + 3 -> num +3 \n",
    "#every time we get the string we want we increase the counter by one.\n",
    "s = 'azcbobobegghakl'\n",
    "counter=0\n",
    "end=len(s)\n",
    "for num in range(0,(end+1)):\n",
    "    substring=s[num:(num +3)]\n",
    "    if substring=='bob':\n",
    "        counter +=1\n",
    "print \"Number of times bob occurs is: \" +str(counter)"
   ]
  },
  {
   "cell_type": "code",
   "execution_count": null,
   "metadata": {
    "collapsed": true
   },
   "outputs": [],
   "source": []
  }
 ],
 "metadata": {
  "kernelspec": {
   "display_name": "Python 2",
   "language": "python",
   "name": "python2"
  },
  "language_info": {
   "codemirror_mode": {
    "name": "ipython",
    "version": 2
   },
   "file_extension": ".py",
   "mimetype": "text/x-python",
   "name": "python",
   "nbconvert_exporter": "python",
   "pygments_lexer": "ipython2",
   "version": "2.7.9"
  }
 },
 "nbformat": 4,
 "nbformat_minor": 0
}
