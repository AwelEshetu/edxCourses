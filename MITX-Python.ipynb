{
 "cells": [
  {
   "cell_type": "code",
   "execution_count": null,
   "metadata": {
    "collapsed": true
   },
   "outputs": [],
   "source": [
    "Please think of a number between 0 and 100!\n",
    "Is your secret number 50?\n",
    "Enter 'h' to indicate the guess is too high. Enter 'l' to indicate the guess is too low. Enter 'c' to indicate I guessed correctly. l\n",
    "Is your secret number 75?\n",
    "Enter 'h' to indicate the guess is too high. Enter 'l' to indicate the guess is too low. Enter 'c' to indicate I guessed correctly. l\n",
    "Is your secret number 87?\n",
    "Enter 'h' to indicate the guess is too high. Enter 'l' to indicate the guess is too low. Enter 'c' to indicate I guessed correctly. h\n",
    "Is your secret number 81?\n",
    "Enter 'h' to indicate the guess is too high. Enter 'l' to indicate the guess is too low. Enter 'c' to indicate I guessed correctly. l\n",
    "Is your secret number 84?\n",
    "Enter 'h' to indicate the guess is too high. Enter 'l' to indicate the guess is too low. Enter 'c' to indicate I guessed correctly. h\n",
    "Is your secret number 82?\n",
    "Enter 'h' to indicate the guess is too high. Enter 'l' to indicate the guess is too low. Enter 'c' to indicate I guessed correctly. l\n",
    "Is your secret number 83?\n",
    "Enter 'h' to indicate the guess is too high. Enter 'l' to indicate the guess is too low. Enter 'c' to indicate I guessed correctly. c\n",
    "Game over. Your secret number was: 83\n"
   ]
  },
  {
   "cell_type": "code",
   "execution_count": 2,
   "metadata": {
    "collapsed": false
   },
   "outputs": [
    {
     "name": "stdout",
     "output_type": "stream",
     "text": [
      "Enter 'h' to indicate the guess is too high.       Enter 'l' to indicate the guess is too low.        Enter 'c' to indicate I guessed correctly.\n",
      "please think of a number between 0 and 100 ?\n",
      "Is your secret number 50 ?l\n",
      "Is your secret number 75 ?l\n",
      "Is your secret number 87 ?h\n",
      "Is your secret number 81 ?l\n",
      "Is your secret number 84 ?h\n",
      "Is your secret number 82 ?l\n",
      "Is your secret number 83 ?c\n",
      "Game over. Your sercret number was: 83\n"
     ]
    }
   ],
   "source": [
    "#set options (h,l,c) and prompt a guess from the user\n",
    "print(\"Enter 'h' to indicate the guess is too high.\\\n",
    "       Enter 'l' to indicate the guess is too low. \\\n",
    "       Enter 'c' to indicate I guessed correctly.\")\n",
    "\n",
    "print(\"please think of a number between 0 and 100 ?\")\n",
    "lower_bound=0\n",
    "upper_bound=100\n",
    "for num in range(lower_bound,upper_bound):\n",
    "    guess=raw_input(\"Is your secret number\" + \" \" +str((lower_bound + upper_bound)/2)+\" \"+ \"?\")\n",
    "    if guess=='h':\n",
    "        upper_bound=(lower_bound + upper_bound)/2\n",
    "    elif guess=='l':\n",
    "        lower_bound=(lower_bound + upper_bound)/2\n",
    "    elif guess=='c':\n",
    "        print (\"Game over. Your sercret number was:\" + \" \"+str((lower_bound + upper_bound)/2))\n",
    "        break\n",
    "    else:\n",
    "        print(\"Sorry, I did not understand your input.\")\n",
    "        \n",
    "        \n",
    "    \n"
   ]
  },
  {
   "cell_type": "markdown",
   "metadata": {},
   "source": [
    "...lessons to learn from this question are, how to print multiple statments using one print functio, prompt input from a user, check for input and evaluate it, change upper bound and lower bound according to user's answer, use 'str' to change intiger value to string before you concatenate it, break the loop after getting correct answer, handle the case for unknow answer choice . program tested on python visualizer."
   ]
  },
  {
   "cell_type": "markdown",
   "metadata": {},
   "source": [
    "# Counting Vowels, for a given string 's' of lowercase characters. ( so basically no need to convert or consider uppercase)"
   ]
  },
  {
   "cell_type": "code",
   "execution_count": 5,
   "metadata": {
    "collapsed": false
   },
   "outputs": [
    {
     "name": "stdout",
     "output_type": "stream",
     "text": [
      "Number of vowels: 16\n"
     ]
    }
   ],
   "source": [
    "vtotal=0\n",
    "s=\"aiemeixneilionaioensaneo\"\n",
    "for index in range(0,len(s)):\n",
    "    if s[index]=='a' or s[index]=='e' or s[index]=='i' or s[index]=='o' or s[index]=='u':\n",
    "        vtotal+=1\n",
    "print (\"Number of vowels:\" + \" \"+ str(vtotal))\n",
    "    \n"
   ]
  },
  {
   "cell_type": "markdown",
   "metadata": {},
   "source": [
    "Assume s is a string of lower case characters.\n",
    "\n",
    "Write a program that prints the number of times the string 'bob' occurs in s. For example, if s = 'azcbobobegghakl', then your program should print\n",
    "\n",
    "Number of times bob occurs is: 2"
   ]
  },
  {
   "cell_type": "code",
   "execution_count": 1,
   "metadata": {
    "collapsed": false
   },
   "outputs": [
    {
     "name": "stdout",
     "output_type": "stream",
     "text": [
      "Number of times bob occurs is: 2\n"
     ]
    }
   ],
   "source": [
    "#the length of the string 'bob' is three, there for we can extract substring of our parent string 's'\n",
    "#the length of our substring has to be 3 , which is starting point(num) + 3 -> num +3 \n",
    "#every time we get the string we want we increase the counter by one.\n",
    "s = 'azcbobobegghakl'\n",
    "counter=0\n",
    "end=len(s)\n",
    "for num in range(0,(end+1)):\n",
    "    substring=s[num:(num +3)]\n",
    "    if substring=='bob':\n",
    "        counter +=1\n",
    "print \"Number of times bob occurs is: \" +str(counter)"
   ]
  },
  {
   "cell_type": "markdown",
   "metadata": {},
   "source": [
    "A catering company has hired you to help with organizing and preparing customer's orders. You are given a list of each customer's desired items, and must write a program that will count the number of each items needed for the chefs to prepare. The items that a customer can order are: salad, hamburger, and water.\n",
    "\n",
    "Write a function called item_order that takes as input a string named order. The string contains only words for the items the customer can order separated by one space. The function returns a string that counts the number of each item and consolidates them in the following order: salad:[# salad] hamburger:[# hambruger] water:[# water]\n",
    "\n",
    "If an order does not contain an item, then the count for that item is 0.\n",
    "Notice that each item is formatted as [name of the item][a colon symbol][count of the item] and all item groups are separated by a space.\n",
    "\n",
    "For example:\n",
    "\n",
    "    If order = \"salad water hamburger salad hamburger\" then the function returns \n",
    "         \"salad:2 hamburger:2 water:1\"\n",
    "    If order = \"hamburger water hamburger\" then the function returns \n",
    "         \"salad:0 hamburger:2 water:1\"\n"
   ]
  },
  {
   "cell_type": "code",
   "execution_count": 4,
   "metadata": {
    "collapsed": false
   },
   "outputs": [
    {
     "ename": "UnboundLocalError",
     "evalue": "local variable 'water_counter' referenced before assignment",
     "output_type": "error",
     "traceback": [
      "\u001b[1;31m---------------------------------------------------------------------------\u001b[0m",
      "\u001b[1;31mUnboundLocalError\u001b[0m                         Traceback (most recent call last)",
      "\u001b[1;32m<ipython-input-4-c571291ae5ab>\u001b[0m in \u001b[0;36m<module>\u001b[1;34m()\u001b[0m\n\u001b[0;32m     17\u001b[0m     \u001b[1;32mreturn\u001b[0m \u001b[1;33m(\u001b[0m\u001b[1;34m\"salad:\"\u001b[0m\u001b[1;33m+\u001b[0m\u001b[0mstr\u001b[0m\u001b[1;33m(\u001b[0m\u001b[0msalad_counter\u001b[0m\u001b[1;33m)\u001b[0m\u001b[1;33m+\u001b[0m\u001b[1;34m\" \"\u001b[0m\u001b[1;33m+\u001b[0m\u001b[1;34m\"hamburger:\"\u001b[0m\u001b[1;33m+\u001b[0m\u001b[0mstr\u001b[0m\u001b[1;33m(\u001b[0m\u001b[0mhamburger_counter\u001b[0m\u001b[1;33m)\u001b[0m\u001b[1;33m+\u001b[0m\u001b[1;34m\" \"\u001b[0m\u001b[1;33m+\u001b[0m\u001b[1;34m\"water:\"\u001b[0m\u001b[1;33m+\u001b[0m\u001b[0mstr\u001b[0m\u001b[1;33m(\u001b[0m\u001b[0mwater_counter\u001b[0m\u001b[1;33m)\u001b[0m\u001b[1;33m)\u001b[0m\u001b[1;33m\u001b[0m\u001b[0m\n\u001b[0;32m     18\u001b[0m \u001b[1;33m\u001b[0m\u001b[0m\n\u001b[1;32m---> 19\u001b[1;33m \u001b[0mitem_order\u001b[0m\u001b[1;33m(\u001b[0m\u001b[1;34m\"water\"\u001b[0m\u001b[1;33m)\u001b[0m\u001b[1;33m\u001b[0m\u001b[0m\n\u001b[0m",
      "\u001b[1;32m<ipython-input-4-c571291ae5ab>\u001b[0m in \u001b[0;36mitem_order\u001b[1;34m(order)\u001b[0m\n\u001b[0;32m     12\u001b[0m         \u001b[0mhamburger_counter\u001b[0m \u001b[1;33m+=\u001b[0m\u001b[1;36m1\u001b[0m\u001b[1;33m\u001b[0m\u001b[0m\n\u001b[0;32m     13\u001b[0m     \u001b[1;32melif\u001b[0m \u001b[0morder\u001b[0m\u001b[1;33m==\u001b[0m\u001b[1;34m\"water\"\u001b[0m\u001b[1;33m:\u001b[0m\u001b[1;33m\u001b[0m\u001b[0m\n\u001b[1;32m---> 14\u001b[1;33m         \u001b[0mwater_counter\u001b[0m \u001b[1;33m+=\u001b[0m\u001b[1;36m1\u001b[0m\u001b[1;33m\u001b[0m\u001b[0m\n\u001b[0m\u001b[0;32m     15\u001b[0m     \u001b[1;32melse\u001b[0m\u001b[1;33m:\u001b[0m\u001b[1;33m\u001b[0m\u001b[0m\n\u001b[0;32m     16\u001b[0m         \u001b[1;32mprint\u001b[0m \u001b[1;34m\"we have no such item in the menu\"\u001b[0m\u001b[1;33m\u001b[0m\u001b[0m\n",
      "\u001b[1;31mUnboundLocalError\u001b[0m: local variable 'water_counter' referenced before assignment"
     ]
    }
   ],
   "source": [
    "#lets assume initially we have items ordered zero, and we set up a counter for every item \n",
    "#salad_counter, hamburger_counter, water_counter , all of them initially zero\n",
    "\n",
    "salad_counter=0\n",
    "hamburger_counter=0\n",
    "water_counter=0\n",
    "\n",
    "def item_order(order):\n",
    "    if order==\"salad\":\n",
    "        salad_counter +=1\n",
    "    elif order==\"hamburger\":\n",
    "        hamburger_counter +=1\n",
    "    elif order==\"water\":\n",
    "        water_counter +=1\n",
    "    else:\n",
    "        print \"we have no such item in the menu\"\n",
    "    return (\"salad:\"+str(salad_counter)+\" \"+\"hamburger:\"+str(hamburger_counter)+\" \"+\"water:\"+str(water_counter))\n",
    "\n",
    "item_order(\"water\")"
   ]
  },
  {
   "cell_type": "code",
   "execution_count": 6,
   "metadata": {
    "collapsed": false
   },
   "outputs": [
    {
     "data": {
      "text/plain": [
       "'salad:2 hamburger:0 water:1'"
      ]
     },
     "execution_count": 6,
     "metadata": {},
     "output_type": "execute_result"
    }
   ],
   "source": [
    "#so from the above error i can kind see there is a scope problem when i try to update water_counter inside the function\n",
    "#then i changed my code a bit and put every counter on a local scope to the function. \n",
    "#consider multiple inputs at a single order, that way we need to sort the order and get it as an arry or list or other \n",
    "#structure so we can update each counter \n",
    "#(split()->function will put each order in the list when they are separated by white space) then run the program, \n",
    "\n",
    "\n",
    "def item_order(order):\n",
    "    salad_counter=0\n",
    "    hamburger_counter=0\n",
    "    water_counter=0\n",
    "    sorted_order=order.split()\n",
    "    for word in sorted_order:\n",
    "       if word==\"salad\":\n",
    "          salad_counter +=1\n",
    "       elif word==\"hamburger\":\n",
    "          hamburger_counter +=1\n",
    "       elif word==\"water\":\n",
    "          water_counter +=1\n",
    "       elif word=='':\n",
    "          salad_counter\n",
    "          hamburger_counter\n",
    "          water_counter\n",
    "       else:\n",
    "        print \"we have no such item in the menu\"\n",
    "    return (\"salad:\"+str(salad_counter)+\" \"+\"hamburger:\"+str(hamburger_counter)+\" \"+\"water:\"+str(water_counter))\n",
    "\n",
    "item_order(\"salad water salad\")\n",
    "\n"
   ]
  },
  {
   "cell_type": "markdown",
   "metadata": {
    "collapsed": true
   },
   "source": [
    " Write a Python function, clip(lo, x, hi) that returns lo if x is less than lo; hi if x is greater than hi; and x otherwise. For this problem, you can assume that lo < hi.\n",
    "\n",
    "Don't use any conditional statements for this problem. Instead, use the built in Python functions min and max. You may wish to read the documentation on min and the documentation on max, and play around with these functions a bit in your interpreter, before beginning this problem.\n",
    "\n",
    "This function takes in three numbers and returns a single number. "
   ]
  },
  {
   "cell_type": "code",
   "execution_count": 1,
   "metadata": {
    "collapsed": false
   },
   "outputs": [
    {
     "data": {
      "text/plain": [
       "2"
      ]
     },
     "execution_count": 1,
     "metadata": {},
     "output_type": "execute_result"
    }
   ],
   "source": [
    "def clip(lo, x, hi):\n",
    "    '''\n",
    "    Takes in three numbers and returns a value based on the value of x.\n",
    "    Returns:\n",
    "     - lo, when x < lo\n",
    "     - hi, when x > hi\n",
    "     - x, otherwise\n",
    "    '''\n",
    "    # the trick is we need to use built in functions not conditionals.\n",
    "def clip(lo, x, hi):\n",
    "    return max(lo, min(x,hi))\n",
    "\n",
    "clip(2,1,4)"
   ]
  },
  {
   "cell_type": "markdown",
   "metadata": {},
   "source": [
    " Write a Python function, odd, that takes in one number and returns True when the number is odd and False otherwise.\n",
    "\n",
    "You should use the % (mod) operator, not if.\n",
    "\n",
    "This function takes in one number and returns a boolean. "
   ]
  },
  {
   "cell_type": "code",
   "execution_count": 4,
   "metadata": {
    "collapsed": false
   },
   "outputs": [
    {
     "data": {
      "text/plain": [
       "False"
      ]
     },
     "execution_count": 4,
     "metadata": {},
     "output_type": "execute_result"
    }
   ],
   "source": [
    "def odd(x):\n",
    "    '''\n",
    "    x: int or float.\n",
    "\n",
    "    returns: True if x is odd, False otherwise\n",
    "    '''\n",
    "    # solving this with out if conditional will give you the sense of ternary operation in python\n",
    "   \n",
    "    return ((True,False)[x%2==0])\n",
    "\n",
    "odd(944)"
   ]
  },
  {
   "cell_type": "markdown",
   "metadata": {},
   "source": [
    " Define a function isVowel(char) that returns True if char is a vowel ('a', 'e', 'i', 'o', or 'u'), and False otherwise. You can assume that char is a single letter of any case (ie, 'A' and 'a' are both valid).\n",
    "\n",
    "Do not use the keyword in. Your function should take in a single string and return a boolean. \n"
   ]
  },
  {
   "cell_type": "code",
   "execution_count": 5,
   "metadata": {
    "collapsed": false
   },
   "outputs": [
    {
     "data": {
      "text/plain": [
       "False"
      ]
     },
     "execution_count": 5,
     "metadata": {},
     "output_type": "execute_result"
    }
   ],
   "source": [
    "def isVowel(char):\n",
    "    '''\n",
    "    char: a single letter of any case\n",
    "\n",
    "    returns: True if char is a vowel and False otherwise.\n",
    "    '''\n",
    "    # can also be done using ternary operation like above\n",
    "    char=char.lower()\n",
    "    return char=='a' or char=='e' or char=='i' or char=='o' or char=='u'\n",
    "       \n",
    "isVowel('T')"
   ]
  },
  {
   "cell_type": "markdown",
   "metadata": {},
   "source": [
    " Define a function isVowel2(char) that returns True if char is a vowel ('a', 'e', 'i', 'o', or 'u'), and False otherwise. You can assume that char is a single letter of any case (ie, 'A' and 'a' are both valid).\n",
    "\n",
    "This function is similar to the previous problem - but this time, do use the keyword in. Your function should take in a single string and return a boolean. "
   ]
  },
  {
   "cell_type": "code",
   "execution_count": 6,
   "metadata": {
    "collapsed": false
   },
   "outputs": [
    {
     "data": {
      "text/plain": [
       "False"
      ]
     },
     "execution_count": 6,
     "metadata": {},
     "output_type": "execute_result"
    }
   ],
   "source": [
    "def isVowel2(char):\n",
    "    '''\n",
    "    char: a single letter of any case\n",
    "\n",
    "    returns: True if char is a vowel and False otherwise.\n",
    "    '''\n",
    "    # different way of using 'return' and in at the same time\n",
    "    char=char.lower()\n",
    "    return char in {'a','e','i','o','u'}\n",
    "isVowel2('T')"
   ]
  },
  {
   "cell_type": "markdown",
   "metadata": {},
   "source": [
    "A regular polygon has n number of sides. Each side has length s.\n",
    "\n",
    "    The area of a regular polygon is: (0.25∗n∗s2)/(tan(π/n))\n",
    "    The perimeter of a polygon is: length of the boundary of the polygon\n",
    "\n",
    "Write a function called polysum that takes 2 arguments, n and s. This function should sum the area and square of the perimeter of the regular polygon. The function returns the sum, rounded to 4 decimal places."
   ]
  },
  {
   "cell_type": "code",
   "execution_count": 11,
   "metadata": {
    "collapsed": false
   },
   "outputs": [
    {
     "data": {
      "text/plain": [
       "347.3827"
      ]
     },
     "execution_count": 11,
     "metadata": {},
     "output_type": "execute_result"
    }
   ],
   "source": [
    "#import math module to use pi as a constant and apply trigonometric calculations\n",
    "import math\n",
    "\n",
    "def polysum(n,s):\n",
    "    \"\"\"n and s:int values which are greater than zero \n",
    "       returns: int which is rounded(4 decimals)sum of the Area 'A',\n",
    "               and the square of the perimeter(P) of regular polygon\n",
    "    \"\"\"\n",
    "    A=((0.25*n*pow(s,2)))/(math.tan(math.pi/n))\n",
    "    P=n*s\n",
    "    return round((A+(pow(P,2))),4)\n",
    "\n",
    "polysum(6,3)\n",
    "    "
   ]
  },
  {
   "cell_type": "markdown",
   "metadata": {
    "collapsed": true
   },
   "source": [
    "Write a program to calculate the credit card balance after one year if a person only pays the minimum monthly payment required by the credit card company each month.\n",
    "\n",
    "The following variables contain values as described below:\n",
    "\n",
    "    balance - the outstanding balance on the credit card\n",
    "\n",
    "    annualInterestRate - annual interest rate as a decimal\n",
    "\n",
    "    monthlyPaymentRate - minimum monthly payment rate as a decimal\n",
    "\n",
    "For each month, calculate statements on the monthly payment and remaining balance, and print to screen something of the format:\n",
    "\n",
    "Month: 1\n",
    "Minimum monthly payment: 96.0\n",
    "Remaining balance: 4784.0\n",
    "\n",
    "Be sure to print out no more than two decimal digits of accuracy - so print\n",
    "\n",
    "Remaining balance: 813.41\n",
    "\n",
    "instead of\n",
    "\n",
    "Remaining balance: 813.4141998135 \n",
    "\n",
    "Finally, print out the total amount paid that year and the remaining balance at the end of the year in the format:\n",
    "\n",
    "Total paid: 96.0\n",
    "Remaining balance: 4784.0\n",
    "\n",
    "A summary of the required math is found below:\n",
    "\n",
    "    Monthly interest rate= (Annual interest rate) / 12.0\n",
    "    Minimum monthly payment = (Minimum monthly payment rate) x (Previous balance)\n",
    "    Monthly unpaid balance = (Previous balance) - (Minimum monthly payment)\n",
    "    Updated balance each month = (Monthly unpaid balance) + (Monthly interest rate x Monthly unpaid balance)\n",
    "\n",
    "Note that the grading script looks for the order in which each value is printed out. We provide sample test cases below; we suggest you develop your code on your own machine, and make sure your code passes the sample test cases, before you paste it into the box below. "
   ]
  },
  {
   "cell_type": "code",
   "execution_count": 4,
   "metadata": {
    "collapsed": false
   },
   "outputs": [
    {
     "name": "stdout",
     "output_type": "stream",
     "text": [
      "Month: 1\n",
      "Minimum monthly payment: 168.52\n",
      "Remaining balance: 4111.89\n",
      "Month: 2\n",
      "Minimum monthly payment: 164.48\n",
      "Remaining balance: 4013.2\n",
      "Month: 3\n",
      "Minimum monthly payment: 160.53\n",
      "Remaining balance: 3916.88\n",
      "Month: 4\n",
      "Minimum monthly payment: 156.68\n",
      "Remaining balance: 3822.87\n",
      "Month: 5\n",
      "Minimum monthly payment: 152.91\n",
      "Remaining balance: 3731.13\n",
      "Month: 6\n",
      "Minimum monthly payment: 149.25\n",
      "Remaining balance: 3641.58\n",
      "Month: 7\n",
      "Minimum monthly payment: 145.66\n",
      "Remaining balance: 3554.19\n",
      "Month: 8\n",
      "Minimum monthly payment: 142.17\n",
      "Remaining balance: 3468.89\n",
      "Month: 9\n",
      "Minimum monthly payment: 138.76\n",
      "Remaining balance: 3385.63\n",
      "Month: 10\n",
      "Minimum monthly payment: 135.43\n",
      "Remaining balance: 3304.37\n",
      "Month: 11\n",
      "Minimum monthly payment: 132.17\n",
      "Remaining balance: 3225.07\n",
      "Month: 12\n",
      "Minimum monthly payment: 129.0\n",
      "Remaining balance: 3147.67\n",
      "Total paid: 1775.56\n",
      "Remaining balance: 3147.67\n"
     ]
    }
   ],
   "source": [
    "def credit_balance(balance,annualInterestRate,monthlyPaymentRate):\n",
    "    monthlyInterestRate=annualInterestRate/12.0\n",
    "    total_paid=0\n",
    "    \n",
    "    for month in range(1,13):\n",
    "        \n",
    "       min_monthly_payment=round((monthlyPaymentRate*balance),2)\n",
    "       remaining_balance=round((balance - min_monthly_payment),2)\n",
    "       balance=round((remaining_balance + (monthlyInterestRate*remaining_balance)),2)\n",
    "       total_paid=total_paid+min_monthly_payment\n",
    "        \n",
    "       print (\"Month: \" + str(month )) \n",
    "       print (\"Minimum monthly payment: \" + str(min_monthly_payment)) \n",
    "       print (\"Remaining balance: \" + str(balance))\n",
    "    print (\"Total paid: \"+ str(total_paid))\n",
    "    print (\"Remaining balance: \" +str(balance))\n",
    "    \n",
    "credit_balance(4213,0.2,0.04)       "
   ]
  },
  {
   "cell_type": "markdown",
   "metadata": {},
   "source": [
    "Now write a program that calculates the minimum fixed monthly payment needed in order pay off a credit card balance within 12 months. By a fixed monthly payment, we mean a single number which does not change each month, but instead is a constant amount that will be paid each month.\n",
    "\n",
    "In this problem, we will not be dealing with a minimum monthly payment rate.\n",
    "\n",
    "The following variables contain values as described below:\n",
    "\n",
    "    balance - the outstanding balance on the credit card\n",
    "\n",
    "    annualInterestRate - annual interest rate as a decimal\n",
    "\n",
    "The program should print out one line: the lowest monthly payment that will pay off all debt in under 1 year, for example:\n",
    "\n",
    "Lowest Payment: 180 \n",
    "\n",
    "Assume that the interest is compounded monthly according to the balance at the end of the month (after the payment for that month is made). The monthly payment must be a multiple of $10 and is the same for all months. Notice that it is possible for the balance to become negative using this payment scheme, which is okay. A summary of the required math is found below:\n",
    "\n",
    "    Monthly interest rate = (Annual interest rate) / 12.0\n",
    "    Monthly unpaid balance = (Previous balance) - (Minimum fixed monthly payment)\n",
    "    Updated balance each month = (Monthly unpaid balance) + (Monthly interest rate x Monthly unpaid balance)\n"
   ]
  },
  {
   "cell_type": "code",
   "execution_count": 4,
   "metadata": {
    "collapsed": false
   },
   "outputs": [
    {
     "name": "stdout",
     "output_type": "stream",
     "text": [
      "Lowest Payment: 50\n"
     ]
    }
   ],
   "source": [
    "#test values\n",
    "balance=500\n",
    "annualInterestRate=0.2\n",
    "#monthly interest\n",
    "monthly_interest_rate = annualInterestRate / 12.0\n",
    "\n",
    "def unpaid_balance(previous_balance, monthly_payment):\n",
    "    return previous_balance - monthly_payment\n",
    "\n",
    "def updated_balance(unpaid_balance, monthly_interest_rate):\n",
    "    return unpaid_balance + (monthly_interest_rate * unpaid_balance)\n",
    "\n",
    "lowest_payment = 10\n",
    "\n",
    "while True:\n",
    "    remaining = balance\n",
    "    months = 0\n",
    "\n",
    "    while remaining > 0:\n",
    "        unpaid = unpaid_balance(remaining, lowest_payment)\n",
    "        remaining = updated_balance(unpaid, monthly_interest_rate)\n",
    "        months += 1\n",
    "        if months > 12:\n",
    "            break\n",
    "\n",
    "    if months <= 12:\n",
    "        break\n",
    "    else:\n",
    "        lowest_payment += 10\n",
    "\n",
    "print(\"Lowest Payment:\"),\n",
    "print(lowest_payment)"
   ]
  },
  {
   "cell_type": "markdown",
   "metadata": {
    "collapsed": true
   },
   "source": [
    "You'll notice that in Problem 2, your monthly payment had to be a multiple of $10. Why did we make it that way? You can try running your code locally so that the payment can be any dollar and cent amount (in other words, the monthly payment is a multiple of $0.01). Does your code still work? It should, but you may notice that your code runs more slowly, especially in cases with very large balances and interest rates. (Note: when your code is running on our servers, there are limits on the amount of computing time each submission is allowed, so your observations from running this experiment on the grading system might be limited to an error message complaining about too much time taken.)\n",
    "\n",
    "Well then, how can we calculate a more accurate fixed monthly payment than we did in Problem 2 without running into the problem of slow code? We can make this program run faster using a technique introduced in lecture - bisection search!\n",
    "\n",
    "The following variables contain values as described below:\n",
    "\n",
    "    balance - the outstanding balance on the credit card\n",
    "\n",
    "    annualInterestRate - annual interest rate as a decimal\n",
    "\n",
    "To recap the problem: we are searching for the smallest monthly payment such that we can pay off the entire balance within a year. What is a reasonable lower bound for this payment value? $0 is the obvious anwer, but you can do better than that. If there was no interest, the debt can be paid off by monthly payments of one-twelfth of the original balance, so we must pay at least this much every month. One-twelfth of the original balance is a good lower bound.\n",
    "\n",
    "What is a good upper bound? Imagine that instead of paying monthly, we paid off the entire balance at the end of the year. What we ultimately pay must be greater than what we would've paid in monthly installments, because the interest was compounded on the balance we didn't pay off each month. So a good upper bound for the monthly payment would be one-twelfth of the balance, after having its interest compounded monthly for an entire year.\n",
    "\n",
    "In short:\n",
    "\n",
    "    Monthly interest rate = (Annual interest rate) / 12.0\n",
    "    Monthly payment lower bound = Balance / 12\n",
    "    Monthly payment upper bound = (Balance x (1 + Monthly interest rate)power 12) / 12.0\n",
    "\n",
    "Write a program that uses these bounds and bisection search (for more info check out the Wikipedia page on bisection search) to find the smallest monthly payment to the cent (no more multiples of $10) such that we can pay off the debt within a year. Try it out with large inputs, and notice how fast it is (try the same large inputs in your solution to Problem 2 to compare!). Produce the same return value as you did in Problem 2."
   ]
  },
  {
   "cell_type": "code",
   "execution_count": 5,
   "metadata": {
    "collapsed": false
   },
   "outputs": [
    {
     "name": "stdout",
     "output_type": "stream",
     "text": [
      "Lowest Payment: 54.67\n"
     ]
    }
   ],
   "source": [
    "#test values\n",
    "balance=600\n",
    "annualInterestRate=0.2\n",
    "# Paste your code into this box\n",
    "\n",
    "monthly_interest_rate = annualInterestRate / 12.0\n",
    "payment_lower_bound = balance / 12.0\n",
    "payment_upper_bound = (balance * (1 + monthly_interest_rate)**12) / 12.0\n",
    "\n",
    "def unpaid_balance(previous_balance, monthly_payment):\n",
    "    return previous_balance - monthly_payment\n",
    "\n",
    "def updated_balance(unpaid_balance, monthly_interest_rate):\n",
    "    return unpaid_balance + (monthly_interest_rate * unpaid_balance)\n",
    "\n",
    "lowest_payment = (payment_lower_bound + payment_upper_bound) / 2.0\n",
    "last_lowest = None\n",
    "\n",
    "while True:\n",
    "    remaining = balance\n",
    "    months = 0\n",
    "\n",
    "    while remaining > 0:\n",
    "        unpaid = unpaid_balance(remaining, lowest_payment)\n",
    "        remaining = updated_balance(unpaid, monthly_interest_rate)\n",
    "        months += 1\n",
    "        if months > 12:\n",
    "            payment_lower_bound = lowest_payment\n",
    "            break\n",
    "        if remaining < 0:\n",
    "            payment_upper_bound = lowest_payment\n",
    "            break\n",
    "\n",
    "    if last_lowest == lowest_payment:\n",
    "        break\n",
    "\n",
    "    last_lowest = lowest_payment\n",
    "    lowest_payment = (payment_lower_bound + payment_upper_bound) / 2.0\n",
    "\n",
    "print(\"Lowest Payment:\"),\n",
    "print(round(lowest_payment, 2))"
   ]
  },
  {
   "cell_type": "markdown",
   "metadata": {},
   "source": [
    "Assume s is a string of lower case characters.\n",
    "\n",
    "Write a program that counts up the number of vowels contained in the string s.\n",
    "Valid vowels are: 'a', 'e', 'i', 'o', and 'u'. For example, if s = 'azcbobobegghakl', your program should print:\n",
    "\n",
    "Number of vowels: 5\n",
    "\n",
    "For problems such as these, do not include raw_input statements or define the variable s in any way.\n",
    "Our automating testing will provide a value of s for you - \n",
    "so the code you submit in the following box should assume s is already defined. \n",
    "If you are confused by this instruction, please review L4 Problems 10 and 11 before you begin this problem set.\n"
   ]
  },
  {
   "cell_type": "code",
   "execution_count": 1,
   "metadata": {
    "collapsed": false
   },
   "outputs": [
    {
     "name": "stdout",
     "output_type": "stream",
     "text": [
      "Number of vowels: 5\n"
     ]
    }
   ],
   "source": [
    "\n",
    "def count_vow(s):\n",
    "    counter=0\n",
    "    for index in range(0,len(s)):\n",
    "        if s[index] in {'a','e','i','o','u'}:\n",
    "            counter+=1\n",
    "    return counter\n",
    "   \n",
    "     \n",
    "print \"Number of vowels: \" + str(count_vow('azcbobobegghakl'))"
   ]
  },
  {
   "cell_type": "markdown",
   "metadata": {},
   "source": [
    "Assume s is a string of lower case characters.\n",
    "\n",
    "Write a program that prints the number of times the string 'bob' occurs in s. For example, \n",
    "if s = 'azcbobobegghakl', then your program should print\n",
    "\n",
    "Number of times bob occurs is: 2\n",
    "\n",
    "For problems such as these, do not include raw_input statements or define the variable s in any way. \n",
    "Our automating testing will provide a value of s for you - \n",
    "so the code you submit in the following box should assume s is already defined. \n",
    "If you are confused by this instruction, please review L4 Problems 10 and 11 before you begin this problem set."
   ]
  },
  {
   "cell_type": "code",
   "execution_count": 2,
   "metadata": {
    "collapsed": false
   },
   "outputs": [
    {
     "name": "stdout",
     "output_type": "stream",
     "text": [
      "Number of times bob occurs is: 2\n"
     ]
    }
   ],
   "source": [
    "\n",
    "s = 'azcbobobegghakl'\n",
    "counter=0\n",
    "for index in range(0,len(s)):\n",
    "    if s[index:(index+3)]=='bob':\n",
    "        counter +=1\n",
    "print \"Number of times bob occurs is: \" + str(counter)\n",
    "   \n",
    "     \n"
   ]
  },
  {
   "cell_type": "code",
   "execution_count": null,
   "metadata": {
    "collapsed": true
   },
   "outputs": [],
   "source": []
  },
  {
   "cell_type": "markdown",
   "metadata": {},
   "source": [
    "Write an iterative function iterPower(base, exp) that calculates the exponential\n",
    "import \n",
    "$$ math.pow(base,exp)$$ by simply using successive multiplication. For example, iterPower(base, exp) should compute baseexp by multiplying base times itself exp times. Write such a function below.\n",
    "\n",
    "This function should take in two values - base can be a float or an integer; exp will be an integer ≥ 0. It should return one numerical value. Your code must be iterative - use of the ** operator is not allowed. "
   ]
  },
  {
   "cell_type": "code",
   "execution_count": 24,
   "metadata": {
    "collapsed": false
   },
   "outputs": [
    {
     "data": {
      "text/plain": [
       "21252875.28"
      ]
     },
     "execution_count": 24,
     "metadata": {},
     "output_type": "execute_result"
    }
   ],
   "source": [
    "def iterPower(base, exp):\n",
    "    '''\n",
    "    base: int or float.\n",
    "    exp: int >= 0\n",
    " \n",
    "    returns: int or float, base^exp\n",
    "    '''\n",
    "    # Your code here\n",
    "    result=1\n",
    "    while exp >0:\n",
    "        result*=base\n",
    "        exp=exp-1\n",
    "    return result\n",
    "\n",
    "round(iterPower(-8.24, 8),2)"
   ]
  },
  {
   "cell_type": "code",
   "execution_count": null,
   "metadata": {
    "collapsed": true
   },
   "outputs": [],
   "source": [
    "\n",
    "\n",
    "In Problem 1, we computed an exponential by iteratively executing successive multiplications.\n",
    "We can use the same idea, but in a recursive function.\n",
    "\n",
    "Write a function recurPower(base, exp) which computes baseexp by recursively calling itself\n",
    "to solve a smaller version of the same problem, and then multiplying the result by base to solve the initial problem.\n",
    "\n",
    "This function should take in two values - base can be a float or an integer; exp will be an integer ≥0. \n",
    "It should return one numerical value. Your code must be recursive - use of the ** operator\n",
    "or looping constructs is not allowed.\n"
   ]
  }
 ],
 "metadata": {
  "kernelspec": {
   "display_name": "Python 2",
   "language": "python",
   "name": "python2"
  },
  "language_info": {
   "codemirror_mode": {
    "name": "ipython",
    "version": 2
   },
   "file_extension": ".py",
   "mimetype": "text/x-python",
   "name": "python",
   "nbconvert_exporter": "python",
   "pygments_lexer": "ipython2",
   "version": "2.7.9"
  }
 },
 "nbformat": 4,
 "nbformat_minor": 0
}
