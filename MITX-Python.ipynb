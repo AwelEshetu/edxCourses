{
 "cells": [
  {
   "cell_type": "code",
   "execution_count": null,
   "metadata": {
    "collapsed": true
   },
   "outputs": [],
   "source": [
    "Please think of a number between 0 and 100!\n",
    "Is your secret number 50?\n",
    "Enter 'h' to indicate the guess is too high. Enter 'l' to indicate the guess is too low. Enter 'c' to indicate I guessed correctly. l\n",
    "Is your secret number 75?\n",
    "Enter 'h' to indicate the guess is too high. Enter 'l' to indicate the guess is too low. Enter 'c' to indicate I guessed correctly. l\n",
    "Is your secret number 87?\n",
    "Enter 'h' to indicate the guess is too high. Enter 'l' to indicate the guess is too low. Enter 'c' to indicate I guessed correctly. h\n",
    "Is your secret number 81?\n",
    "Enter 'h' to indicate the guess is too high. Enter 'l' to indicate the guess is too low. Enter 'c' to indicate I guessed correctly. l\n",
    "Is your secret number 84?\n",
    "Enter 'h' to indicate the guess is too high. Enter 'l' to indicate the guess is too low. Enter 'c' to indicate I guessed correctly. h\n",
    "Is your secret number 82?\n",
    "Enter 'h' to indicate the guess is too high. Enter 'l' to indicate the guess is too low. Enter 'c' to indicate I guessed correctly. l\n",
    "Is your secret number 83?\n",
    "Enter 'h' to indicate the guess is too high. Enter 'l' to indicate the guess is too low. Enter 'c' to indicate I guessed correctly. c\n",
    "Game over. Your secret number was: 83\n"
   ]
  },
  {
   "cell_type": "code",
   "execution_count": 2,
   "metadata": {
    "collapsed": false
   },
   "outputs": [
    {
     "name": "stdout",
     "output_type": "stream",
     "text": [
      "Enter 'h' to indicate the guess is too high.       Enter 'l' to indicate the guess is too low.        Enter 'c' to indicate I guessed correctly.\n",
      "please think of a number between 0 and 100 ?\n",
      "Is your secret number 50 ?l\n",
      "Is your secret number 75 ?l\n",
      "Is your secret number 87 ?h\n",
      "Is your secret number 81 ?l\n",
      "Is your secret number 84 ?h\n",
      "Is your secret number 82 ?l\n",
      "Is your secret number 83 ?c\n",
      "Game over. Your sercret number was: 83\n"
     ]
    }
   ],
   "source": [
    "#set options (h,l,c) and prompt a guess from the user\n",
    "print(\"Enter 'h' to indicate the guess is too high.\\\n",
    "       Enter 'l' to indicate the guess is too low. \\\n",
    "       Enter 'c' to indicate I guessed correctly.\")\n",
    "\n",
    "print(\"please think of a number between 0 and 100 ?\")\n",
    "lower_bound=0\n",
    "upper_bound=100\n",
    "for num in range(lower_bound,upper_bound):\n",
    "    guess=raw_input(\"Is your secret number\" + \" \" +str((lower_bound + upper_bound)/2)+\" \"+ \"?\")\n",
    "    if guess=='h':\n",
    "        upper_bound=(lower_bound + upper_bound)/2\n",
    "    elif guess=='l':\n",
    "        lower_bound=(lower_bound + upper_bound)/2\n",
    "    elif guess=='c':\n",
    "        print (\"Game over. Your sercret number was:\" + \" \"+str((lower_bound + upper_bound)/2))\n",
    "        break\n",
    "    else:\n",
    "        print(\"Sorry, I did not understand your input.\")\n",
    "        \n",
    "        \n",
    "    \n"
   ]
  },
  {
   "cell_type": "markdown",
   "metadata": {},
   "source": [
    "...lessons to learn from this question are, how to print multiple statments using one print functio, prompt input from a user, check for input and evaluate it, change upper bound and lower bound according to user's answer, use 'str' to change intiger value to string before you concatenate it, break the loop after getting correct answer, handle the case for unknow answer choice . program tested on python visualizer."
   ]
  },
  {
   "cell_type": "markdown",
   "metadata": {},
   "source": [
    "# Counting Vowels, for a given string 's' of lowercase characters. ( so basically no need to convert or consider uppercase)"
   ]
  },
  {
   "cell_type": "code",
   "execution_count": 5,
   "metadata": {
    "collapsed": false
   },
   "outputs": [
    {
     "name": "stdout",
     "output_type": "stream",
     "text": [
      "Number of vowels: 16\n"
     ]
    }
   ],
   "source": [
    "vtotal=0\n",
    "s=\"aiemeixneilionaioensaneo\"\n",
    "for index in range(0,len(s)):\n",
    "    if s[index]=='a' or s[index]=='e' or s[index]=='i' or s[index]=='o' or s[index]=='u':\n",
    "        vtotal+=1\n",
    "print (\"Number of vowels:\" + \" \"+ str(vtotal))\n",
    "    \n"
   ]
  },
  {
   "cell_type": "markdown",
   "metadata": {},
   "source": [
    "Assume s is a string of lower case characters.\n",
    "\n",
    "Write a program that prints the number of times the string 'bob' occurs in s. For example, if s = 'azcbobobegghakl', then your program should print\n",
    "\n",
    "Number of times bob occurs is: 2"
   ]
  },
  {
   "cell_type": "code",
   "execution_count": 1,
   "metadata": {
    "collapsed": false
   },
   "outputs": [
    {
     "name": "stdout",
     "output_type": "stream",
     "text": [
      "Number of times bob occurs is: 2\n"
     ]
    }
   ],
   "source": [
    "#the length of the string 'bob' is three, there for we can extract substring of our parent string 's'\n",
    "#the length of our substring has to be 3 , which is starting point(num) + 3 -> num +3 \n",
    "#every time we get the string we want we increase the counter by one.\n",
    "s = 'azcbobobegghakl'\n",
    "counter=0\n",
    "end=len(s)\n",
    "for num in range(0,(end+1)):\n",
    "    substring=s[num:(num +3)]\n",
    "    if substring=='bob':\n",
    "        counter +=1\n",
    "print \"Number of times bob occurs is: \" +str(counter)"
   ]
  },
  {
   "cell_type": "markdown",
   "metadata": {},
   "source": [
    "A catering company has hired you to help with organizing and preparing customer's orders. You are given a list of each customer's desired items, and must write a program that will count the number of each items needed for the chefs to prepare. The items that a customer can order are: salad, hamburger, and water.\n",
    "\n",
    "Write a function called item_order that takes as input a string named order. The string contains only words for the items the customer can order separated by one space. The function returns a string that counts the number of each item and consolidates them in the following order: salad:[# salad] hamburger:[# hambruger] water:[# water]\n",
    "\n",
    "If an order does not contain an item, then the count for that item is 0.\n",
    "Notice that each item is formatted as [name of the item][a colon symbol][count of the item] and all item groups are separated by a space.\n",
    "\n",
    "For example:\n",
    "\n",
    "    If order = \"salad water hamburger salad hamburger\" then the function returns \n",
    "         \"salad:2 hamburger:2 water:1\"\n",
    "    If order = \"hamburger water hamburger\" then the function returns \n",
    "         \"salad:0 hamburger:2 water:1\"\n"
   ]
  },
  {
   "cell_type": "code",
   "execution_count": 4,
   "metadata": {
    "collapsed": false
   },
   "outputs": [
    {
     "ename": "UnboundLocalError",
     "evalue": "local variable 'water_counter' referenced before assignment",
     "output_type": "error",
     "traceback": [
      "\u001b[1;31m---------------------------------------------------------------------------\u001b[0m",
      "\u001b[1;31mUnboundLocalError\u001b[0m                         Traceback (most recent call last)",
      "\u001b[1;32m<ipython-input-4-c571291ae5ab>\u001b[0m in \u001b[0;36m<module>\u001b[1;34m()\u001b[0m\n\u001b[0;32m     17\u001b[0m     \u001b[1;32mreturn\u001b[0m \u001b[1;33m(\u001b[0m\u001b[1;34m\"salad:\"\u001b[0m\u001b[1;33m+\u001b[0m\u001b[0mstr\u001b[0m\u001b[1;33m(\u001b[0m\u001b[0msalad_counter\u001b[0m\u001b[1;33m)\u001b[0m\u001b[1;33m+\u001b[0m\u001b[1;34m\" \"\u001b[0m\u001b[1;33m+\u001b[0m\u001b[1;34m\"hamburger:\"\u001b[0m\u001b[1;33m+\u001b[0m\u001b[0mstr\u001b[0m\u001b[1;33m(\u001b[0m\u001b[0mhamburger_counter\u001b[0m\u001b[1;33m)\u001b[0m\u001b[1;33m+\u001b[0m\u001b[1;34m\" \"\u001b[0m\u001b[1;33m+\u001b[0m\u001b[1;34m\"water:\"\u001b[0m\u001b[1;33m+\u001b[0m\u001b[0mstr\u001b[0m\u001b[1;33m(\u001b[0m\u001b[0mwater_counter\u001b[0m\u001b[1;33m)\u001b[0m\u001b[1;33m)\u001b[0m\u001b[1;33m\u001b[0m\u001b[0m\n\u001b[0;32m     18\u001b[0m \u001b[1;33m\u001b[0m\u001b[0m\n\u001b[1;32m---> 19\u001b[1;33m \u001b[0mitem_order\u001b[0m\u001b[1;33m(\u001b[0m\u001b[1;34m\"water\"\u001b[0m\u001b[1;33m)\u001b[0m\u001b[1;33m\u001b[0m\u001b[0m\n\u001b[0m",
      "\u001b[1;32m<ipython-input-4-c571291ae5ab>\u001b[0m in \u001b[0;36mitem_order\u001b[1;34m(order)\u001b[0m\n\u001b[0;32m     12\u001b[0m         \u001b[0mhamburger_counter\u001b[0m \u001b[1;33m+=\u001b[0m\u001b[1;36m1\u001b[0m\u001b[1;33m\u001b[0m\u001b[0m\n\u001b[0;32m     13\u001b[0m     \u001b[1;32melif\u001b[0m \u001b[0morder\u001b[0m\u001b[1;33m==\u001b[0m\u001b[1;34m\"water\"\u001b[0m\u001b[1;33m:\u001b[0m\u001b[1;33m\u001b[0m\u001b[0m\n\u001b[1;32m---> 14\u001b[1;33m         \u001b[0mwater_counter\u001b[0m \u001b[1;33m+=\u001b[0m\u001b[1;36m1\u001b[0m\u001b[1;33m\u001b[0m\u001b[0m\n\u001b[0m\u001b[0;32m     15\u001b[0m     \u001b[1;32melse\u001b[0m\u001b[1;33m:\u001b[0m\u001b[1;33m\u001b[0m\u001b[0m\n\u001b[0;32m     16\u001b[0m         \u001b[1;32mprint\u001b[0m \u001b[1;34m\"we have no such item in the menu\"\u001b[0m\u001b[1;33m\u001b[0m\u001b[0m\n",
      "\u001b[1;31mUnboundLocalError\u001b[0m: local variable 'water_counter' referenced before assignment"
     ]
    }
   ],
   "source": [
    "#lets assume initially we have items ordered zero, and we set up a counter for every item \n",
    "#salad_counter, hamburger_counter, water_counter , all of them initially zero\n",
    "\n",
    "salad_counter=0\n",
    "hamburger_counter=0\n",
    "water_counter=0\n",
    "\n",
    "def item_order(order):\n",
    "    if order==\"salad\":\n",
    "        salad_counter +=1\n",
    "    elif order==\"hamburger\":\n",
    "        hamburger_counter +=1\n",
    "    elif order==\"water\":\n",
    "        water_counter +=1\n",
    "    else:\n",
    "        print \"we have no such item in the menu\"\n",
    "    return (\"salad:\"+str(salad_counter)+\" \"+\"hamburger:\"+str(hamburger_counter)+\" \"+\"water:\"+str(water_counter))\n",
    "\n",
    "item_order(\"water\")"
   ]
  },
  {
   "cell_type": "code",
   "execution_count": 6,
   "metadata": {
    "collapsed": false
   },
   "outputs": [
    {
     "data": {
      "text/plain": [
       "'salad:2 hamburger:0 water:1'"
      ]
     },
     "execution_count": 6,
     "metadata": {},
     "output_type": "execute_result"
    }
   ],
   "source": [
    "#so from the above error i can kind see there is a scope problem when i try to update water_counter inside the function\n",
    "#then i changed my code a bit and put every counter on a local scope to the function. \n",
    "#consider multiple inputs at a single order, that way we need to sort the order and get it as an arry or list or other \n",
    "#structure so we can update each counter \n",
    "#(split()->function will put each order in the list when they are separated by white space) then run the program, \n",
    "\n",
    "\n",
    "def item_order(order):\n",
    "    salad_counter=0\n",
    "    hamburger_counter=0\n",
    "    water_counter=0\n",
    "    sorted_order=order.split()\n",
    "    for word in sorted_order:\n",
    "       if word==\"salad\":\n",
    "          salad_counter +=1\n",
    "       elif word==\"hamburger\":\n",
    "          hamburger_counter +=1\n",
    "       elif word==\"water\":\n",
    "          water_counter +=1\n",
    "       elif word=='':\n",
    "          salad_counter\n",
    "          hamburger_counter\n",
    "          water_counter\n",
    "       else:\n",
    "        print \"we have no such item in the menu\"\n",
    "    return (\"salad:\"+str(salad_counter)+\" \"+\"hamburger:\"+str(hamburger_counter)+\" \"+\"water:\"+str(water_counter))\n",
    "\n",
    "item_order(\"salad water salad\")\n",
    "\n"
   ]
  },
  {
   "cell_type": "markdown",
   "metadata": {
    "collapsed": true
   },
   "source": [
    " Write a Python function, clip(lo, x, hi) that returns lo if x is less than lo; hi if x is greater than hi; and x otherwise. For this problem, you can assume that lo < hi.\n",
    "\n",
    "Don't use any conditional statements for this problem. Instead, use the built in Python functions min and max. You may wish to read the documentation on min and the documentation on max, and play around with these functions a bit in your interpreter, before beginning this problem.\n",
    "\n",
    "This function takes in three numbers and returns a single number. "
   ]
  },
  {
   "cell_type": "code",
   "execution_count": 1,
   "metadata": {
    "collapsed": false
   },
   "outputs": [
    {
     "data": {
      "text/plain": [
       "2"
      ]
     },
     "execution_count": 1,
     "metadata": {},
     "output_type": "execute_result"
    }
   ],
   "source": [
    "def clip(lo, x, hi):\n",
    "    '''\n",
    "    Takes in three numbers and returns a value based on the value of x.\n",
    "    Returns:\n",
    "     - lo, when x < lo\n",
    "     - hi, when x > hi\n",
    "     - x, otherwise\n",
    "    '''\n",
    "    # the trick is we need to use built in functions not conditionals.\n",
    "def clip(lo, x, hi):\n",
    "    return max(lo, min(x,hi))\n",
    "\n",
    "clip(2,1,4)"
   ]
  },
  {
   "cell_type": "markdown",
   "metadata": {},
   "source": [
    " Write a Python function, odd, that takes in one number and returns True when the number is odd and False otherwise.\n",
    "\n",
    "You should use the % (mod) operator, not if.\n",
    "\n",
    "This function takes in one number and returns a boolean. "
   ]
  },
  {
   "cell_type": "code",
   "execution_count": 4,
   "metadata": {
    "collapsed": false
   },
   "outputs": [
    {
     "data": {
      "text/plain": [
       "False"
      ]
     },
     "execution_count": 4,
     "metadata": {},
     "output_type": "execute_result"
    }
   ],
   "source": [
    "def odd(x):\n",
    "    '''\n",
    "    x: int or float.\n",
    "\n",
    "    returns: True if x is odd, False otherwise\n",
    "    '''\n",
    "    # solving this with out if conditional will give you the sense of ternary operation in python\n",
    "   \n",
    "    return ((True,False)[x%2==0])\n",
    "\n",
    "odd(944)"
   ]
  },
  {
   "cell_type": "markdown",
   "metadata": {},
   "source": [
    " Define a function isVowel(char) that returns True if char is a vowel ('a', 'e', 'i', 'o', or 'u'), and False otherwise. You can assume that char is a single letter of any case (ie, 'A' and 'a' are both valid).\n",
    "\n",
    "Do not use the keyword in. Your function should take in a single string and return a boolean. \n"
   ]
  },
  {
   "cell_type": "code",
   "execution_count": 5,
   "metadata": {
    "collapsed": false
   },
   "outputs": [
    {
     "data": {
      "text/plain": [
       "False"
      ]
     },
     "execution_count": 5,
     "metadata": {},
     "output_type": "execute_result"
    }
   ],
   "source": [
    "def isVowel(char):\n",
    "    '''\n",
    "    char: a single letter of any case\n",
    "\n",
    "    returns: True if char is a vowel and False otherwise.\n",
    "    '''\n",
    "    # can also be done using ternary operation like above\n",
    "    char=char.lower()\n",
    "    return char=='a' or char=='e' or char=='i' or char=='o' or char=='u'\n",
    "       \n",
    "isVowel('T')"
   ]
  },
  {
   "cell_type": "markdown",
   "metadata": {},
   "source": [
    " Define a function isVowel2(char) that returns True if char is a vowel ('a', 'e', 'i', 'o', or 'u'), and False otherwise. You can assume that char is a single letter of any case (ie, 'A' and 'a' are both valid).\n",
    "\n",
    "This function is similar to the previous problem - but this time, do use the keyword in. Your function should take in a single string and return a boolean. "
   ]
  },
  {
   "cell_type": "code",
   "execution_count": 6,
   "metadata": {
    "collapsed": false
   },
   "outputs": [
    {
     "data": {
      "text/plain": [
       "False"
      ]
     },
     "execution_count": 6,
     "metadata": {},
     "output_type": "execute_result"
    }
   ],
   "source": [
    "def isVowel2(char):\n",
    "    '''\n",
    "    char: a single letter of any case\n",
    "\n",
    "    returns: True if char is a vowel and False otherwise.\n",
    "    '''\n",
    "    # different way of using 'return' and in at the same time\n",
    "    char=char.lower()\n",
    "    return char in {'a','e','i','o','u'}\n",
    "isVowel2('T')"
   ]
  },
  {
   "cell_type": "markdown",
   "metadata": {},
   "source": [
    "A regular polygon has n number of sides. Each side has length s.\n",
    "\n",
    "    The area of a regular polygon is: (0.25∗n∗s2)/(tan(π/n))\n",
    "    The perimeter of a polygon is: length of the boundary of the polygon\n",
    "\n",
    "Write a function called polysum that takes 2 arguments, n and s. This function should sum the area and square of the perimeter of the regular polygon. The function returns the sum, rounded to 4 decimal places."
   ]
  },
  {
   "cell_type": "code",
   "execution_count": 11,
   "metadata": {
    "collapsed": false
   },
   "outputs": [
    {
     "data": {
      "text/plain": [
       "347.3827"
      ]
     },
     "execution_count": 11,
     "metadata": {},
     "output_type": "execute_result"
    }
   ],
   "source": [
    "#import math module to use pi as a constant and apply trigonometric calculations\n",
    "import math\n",
    "\n",
    "def polysum(n,s):\n",
    "    \"\"\"n and s:int values which are greater than zero \n",
    "       returns: int which is rounded(4 decimals)sum of the Area 'A',\n",
    "               and the square of the perimeter(P) of regular polygon\n",
    "    \"\"\"\n",
    "    A=((0.25*n*pow(s,2)))/(math.tan(math.pi/n))\n",
    "    P=n*s\n",
    "    return round((A+(pow(P,2))),4)\n",
    "\n",
    "polysum(6,3)\n",
    "    "
   ]
  },
  {
   "cell_type": "markdown",
   "metadata": {
    "collapsed": true
   },
   "source": [
    "Write a program to calculate the credit card balance after one year if a person only pays the minimum monthly payment required by the credit card company each month.\n",
    "\n",
    "The following variables contain values as described below:\n",
    "\n",
    "    balance - the outstanding balance on the credit card\n",
    "\n",
    "    annualInterestRate - annual interest rate as a decimal\n",
    "\n",
    "    monthlyPaymentRate - minimum monthly payment rate as a decimal\n",
    "\n",
    "For each month, calculate statements on the monthly payment and remaining balance, and print to screen something of the format:\n",
    "\n",
    "Month: 1\n",
    "Minimum monthly payment: 96.0\n",
    "Remaining balance: 4784.0\n",
    "\n",
    "Be sure to print out no more than two decimal digits of accuracy - so print\n",
    "\n",
    "Remaining balance: 813.41\n",
    "\n",
    "instead of\n",
    "\n",
    "Remaining balance: 813.4141998135 \n",
    "\n",
    "Finally, print out the total amount paid that year and the remaining balance at the end of the year in the format:\n",
    "\n",
    "Total paid: 96.0\n",
    "Remaining balance: 4784.0\n",
    "\n",
    "A summary of the required math is found below:\n",
    "\n",
    "    Monthly interest rate= (Annual interest rate) / 12.0\n",
    "    Minimum monthly payment = (Minimum monthly payment rate) x (Previous balance)\n",
    "    Monthly unpaid balance = (Previous balance) - (Minimum monthly payment)\n",
    "    Updated balance each month = (Monthly unpaid balance) + (Monthly interest rate x Monthly unpaid balance)\n",
    "\n",
    "Note that the grading script looks for the order in which each value is printed out. We provide sample test cases below; we suggest you develop your code on your own machine, and make sure your code passes the sample test cases, before you paste it into the box below. "
   ]
  },
  {
   "cell_type": "code",
   "execution_count": 3,
   "metadata": {
    "collapsed": false
   },
   "outputs": [
    {
     "name": "stdout",
     "output_type": "stream",
     "text": [
      "Month: 1\n",
      "Minimum monthly payment: 168.52\n",
      "Remaining balance: 4044.48\n",
      "Month: 2\n",
      "Minimum monthly payment: 164.48\n",
      "Remaining balance: 3947.41\n",
      "Month: 3\n",
      "Minimum monthly payment: 160.53\n",
      "Remaining balance: 3852.67\n",
      "Month: 4\n",
      "Minimum monthly payment: 156.68\n",
      "Remaining balance: 3760.2\n",
      "Month: 5\n",
      "Minimum monthly payment: 152.91\n",
      "Remaining balance: 3669.96\n",
      "Month: 6\n",
      "Minimum monthly payment: 149.25\n",
      "Remaining balance: 3581.88\n",
      "Month: 7\n",
      "Minimum monthly payment: 145.66\n",
      "Remaining balance: 3495.92\n",
      "Month: 8\n",
      "Minimum monthly payment: 142.17\n",
      "Remaining balance: 3412.02\n",
      "Month: 9\n",
      "Minimum monthly payment: 138.76\n",
      "Remaining balance: 3330.13\n",
      "Month: 10\n",
      "Minimum monthly payment: 135.43\n",
      "Remaining balance: 3250.2\n",
      "Month: 11\n",
      "Minimum monthly payment: 132.17\n",
      "Remaining balance: 3172.2\n",
      "Month: 12\n",
      "Minimum monthly payment: 129.0\n",
      "Remaining balance: 3096.07\n",
      "Total paid: 1775.56\n",
      "Remaining balance: 3096.07\n"
     ]
    }
   ],
   "source": [
    "def credit_balance(balance,annualInterestRate,monthlyPaymentRate):\n",
    "    monthlyInterestRate=annualInterestRate/12.0\n",
    "    total_paid=0\n",
    "    \n",
    "    for month in range(1,13):\n",
    "        \n",
    "       min_monthly_payment=round((monthlyPaymentRate*balance),2)\n",
    "       remaining_balance=round((balance - min_monthly_payment),2)\n",
    "    balance=round((remaining_balance + (monthlyInterestRate*remaining_balance)),2)\n",
    "    total_paid=total_paid+min_monthly_payment\n",
    "        \n",
    "    print (\"Month: \" + str(month )) \n",
    "    print (\"Minimum monthly payment: \" + str(min_monthly_payment)) \n",
    "    print (\"Remaining balance: \" + str(balance))\n",
    "print (\"Total paid: \"+ str(total_paid))\n",
    "print (\"Remaining balance: \" +str(balance))\n",
    "    \n",
    "credit_balance(4213,0.2,0.04)       "
   ]
  },
  {
   "cell_type": "code",
   "execution_count": null,
   "metadata": {
    "collapsed": true
   },
   "outputs": [],
   "source": []
  }
 ],
 "metadata": {
  "kernelspec": {
   "display_name": "Python 2",
   "language": "python",
   "name": "python2"
  },
  "language_info": {
   "codemirror_mode": {
    "name": "ipython",
    "version": 2
   },
   "file_extension": ".py",
   "mimetype": "text/x-python",
   "name": "python",
   "nbconvert_exporter": "python",
   "pygments_lexer": "ipython2",
   "version": "2.7.9"
  }
 },
 "nbformat": 4,
 "nbformat_minor": 0
}
