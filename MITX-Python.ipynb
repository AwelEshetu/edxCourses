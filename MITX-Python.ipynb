{
 "cells": [
  {
   "cell_type": "markdown",
   "metadata": {},
   "source": [
    "Please think of a number between 0 and 100!\n",
    "Is your secret number 50?\n",
    "Enter 'h' to indicate the guess is too high. Enter 'l' to indicate the guess is too low. Enter 'c' to indicate I guessed correctly. l\n",
    "Is your secret number 75?\n",
    "Enter 'h' to indicate the guess is too high. Enter 'l' to indicate the guess is too low. Enter 'c' to indicate I guessed correctly. l\n",
    "Is your secret number 87?\n",
    "Enter 'h' to indicate the guess is too high. Enter 'l' to indicate the guess is too low. Enter 'c' to indicate I guessed correctly. h\n",
    "Is your secret number 81?\n",
    "Enter 'h' to indicate the guess is too high. Enter 'l' to indicate the guess is too low. Enter 'c' to indicate I guessed correctly. l\n",
    "Is your secret number 84?\n",
    "Enter 'h' to indicate the guess is too high. Enter 'l' to indicate the guess is too low. Enter 'c' to indicate I guessed correctly. h\n",
    "Is your secret number 82?\n",
    "Enter 'h' to indicate the guess is too high. Enter 'l' to indicate the guess is too low. Enter 'c' to indicate I guessed correctly. l\n",
    "Is your secret number 83?\n",
    "Enter 'h' to indicate the guess is too high. Enter 'l' to indicate the guess is too low. Enter 'c' to indicate I guessed correctly. c\n",
    "Game over. Your secret number was: 83\n"
   ]
  },
  {
   "cell_type": "code",
   "execution_count": 2,
   "metadata": {
    "collapsed": false
   },
   "outputs": [
    {
     "name": "stdout",
     "output_type": "stream",
     "text": [
      "Enter 'h' to indicate the guess is too high.       Enter 'l' to indicate the guess is too low.        Enter 'c' to indicate I guessed correctly.\n",
      "please think of a number between 0 and 100 ?\n",
      "Is your secret number 50 ?l\n",
      "Is your secret number 75 ?l\n",
      "Is your secret number 87 ?h\n",
      "Is your secret number 81 ?l\n",
      "Is your secret number 84 ?h\n",
      "Is your secret number 82 ?l\n",
      "Is your secret number 83 ?c\n",
      "Game over. Your sercret number was: 83\n"
     ]
    }
   ],
   "source": [
    "#set options (h,l,c) and prompt a guess from the user\n",
    "print(\"Enter 'h' to indicate the guess is too high.\\\n",
    "       Enter 'l' to indicate the guess is too low. \\\n",
    "       Enter 'c' to indicate I guessed correctly.\")\n",
    "\n",
    "print(\"please think of a number between 0 and 100 ?\")\n",
    "lower_bound=0\n",
    "upper_bound=100\n",
    "for num in range(lower_bound,upper_bound):\n",
    "    guess=raw_input(\"Is your secret number\" + \" \" +str((lower_bound + upper_bound)/2)+\" \"+ \"?\")\n",
    "    if guess=='h':\n",
    "        upper_bound=(lower_bound + upper_bound)/2\n",
    "    elif guess=='l':\n",
    "        lower_bound=(lower_bound + upper_bound)/2\n",
    "    elif guess=='c':\n",
    "        print (\"Game over. Your sercret number was:\" + \" \"+str((lower_bound + upper_bound)/2))\n",
    "        break\n",
    "    else:\n",
    "        print(\"Sorry, I did not understand your input.\")\n",
    "        \n",
    "        \n",
    "    \n"
   ]
  },
  {
   "cell_type": "markdown",
   "metadata": {},
   "source": [
    "...lessons to learn from this question are, how to print multiple statments using one print functio, prompt input from a user, check for input and evaluate it, change upper bound and lower bound according to user's answer, use 'str' to change intiger value to string before you concatenate it, break the loop after getting correct answer, handle the case for unknow answer choice . program tested on python visualizer."
   ]
  },
  {
   "cell_type": "markdown",
   "metadata": {},
   "source": [
    "# Counting Vowels, for a given string 's' of lowercase characters. ( so basically no need to convert or consider uppercase)"
   ]
  },
  {
   "cell_type": "code",
   "execution_count": 5,
   "metadata": {
    "collapsed": false
   },
   "outputs": [
    {
     "name": "stdout",
     "output_type": "stream",
     "text": [
      "Number of vowels: 16\n"
     ]
    }
   ],
   "source": [
    "vtotal=0\n",
    "s=\"aiemeixneilionaioensaneo\"\n",
    "for index in range(0,len(s)):\n",
    "    if s[index]=='a' or s[index]=='e' or s[index]=='i' or s[index]=='o' or s[index]=='u':\n",
    "        vtotal+=1\n",
    "print (\"Number of vowels:\" + \" \"+ str(vtotal))\n",
    "    \n"
   ]
  },
  {
   "cell_type": "markdown",
   "metadata": {},
   "source": [
    "Assume s is a string of lower case characters.\n",
    "\n",
    "Write a program that prints the number of times the string 'bob' occurs in s. For example, if s = 'azcbobobegghakl', then your program should print\n",
    "\n",
    "Number of times bob occurs is: 2"
   ]
  },
  {
   "cell_type": "code",
   "execution_count": 1,
   "metadata": {
    "collapsed": false
   },
   "outputs": [
    {
     "name": "stdout",
     "output_type": "stream",
     "text": [
      "Number of times bob occurs is: 2\n"
     ]
    }
   ],
   "source": [
    "#the length of the string 'bob' is three, there for we can extract substring of our parent string 's'\n",
    "#the length of our substring has to be 3 , which is starting point(num) + 3 -> num +3 \n",
    "#every time we get the string we want we increase the counter by one.\n",
    "s = 'azcbobobegghakl'\n",
    "counter=0\n",
    "end=len(s)\n",
    "for num in range(0,(end+1)):\n",
    "    substring=s[num:(num +3)]\n",
    "    if substring=='bob':\n",
    "        counter +=1\n",
    "print \"Number of times bob occurs is: \" +str(counter)"
   ]
  },
  {
   "cell_type": "markdown",
   "metadata": {},
   "source": [
    "A catering company has hired you to help with organizing and preparing customer's orders. You are given a list of each customer's desired items, and must write a program that will count the number of each items needed for the chefs to prepare. The items that a customer can order are: salad, hamburger, and water.\n",
    "\n",
    "Write a function called item_order that takes as input a string named order. The string contains only words for the items the customer can order separated by one space. The function returns a string that counts the number of each item and consolidates them in the following order: salad:[# salad] hamburger:[# hambruger] water:[# water]\n",
    "\n",
    "If an order does not contain an item, then the count for that item is 0.\n",
    "Notice that each item is formatted as [name of the item][a colon symbol][count of the item] and all item groups are separated by a space.\n",
    "\n",
    "For example:\n",
    "\n",
    "    If order = \"salad water hamburger salad hamburger\" then the function returns \n",
    "         \"salad:2 hamburger:2 water:1\"\n",
    "    If order = \"hamburger water hamburger\" then the function returns \n",
    "         \"salad:0 hamburger:2 water:1\"\n"
   ]
  },
  {
   "cell_type": "code",
   "execution_count": 4,
   "metadata": {
    "collapsed": false
   },
   "outputs": [
    {
     "ename": "UnboundLocalError",
     "evalue": "local variable 'water_counter' referenced before assignment",
     "output_type": "error",
     "traceback": [
      "\u001b[1;31m---------------------------------------------------------------------------\u001b[0m",
      "\u001b[1;31mUnboundLocalError\u001b[0m                         Traceback (most recent call last)",
      "\u001b[1;32m<ipython-input-4-c571291ae5ab>\u001b[0m in \u001b[0;36m<module>\u001b[1;34m()\u001b[0m\n\u001b[0;32m     17\u001b[0m     \u001b[1;32mreturn\u001b[0m \u001b[1;33m(\u001b[0m\u001b[1;34m\"salad:\"\u001b[0m\u001b[1;33m+\u001b[0m\u001b[0mstr\u001b[0m\u001b[1;33m(\u001b[0m\u001b[0msalad_counter\u001b[0m\u001b[1;33m)\u001b[0m\u001b[1;33m+\u001b[0m\u001b[1;34m\" \"\u001b[0m\u001b[1;33m+\u001b[0m\u001b[1;34m\"hamburger:\"\u001b[0m\u001b[1;33m+\u001b[0m\u001b[0mstr\u001b[0m\u001b[1;33m(\u001b[0m\u001b[0mhamburger_counter\u001b[0m\u001b[1;33m)\u001b[0m\u001b[1;33m+\u001b[0m\u001b[1;34m\" \"\u001b[0m\u001b[1;33m+\u001b[0m\u001b[1;34m\"water:\"\u001b[0m\u001b[1;33m+\u001b[0m\u001b[0mstr\u001b[0m\u001b[1;33m(\u001b[0m\u001b[0mwater_counter\u001b[0m\u001b[1;33m)\u001b[0m\u001b[1;33m)\u001b[0m\u001b[1;33m\u001b[0m\u001b[0m\n\u001b[0;32m     18\u001b[0m \u001b[1;33m\u001b[0m\u001b[0m\n\u001b[1;32m---> 19\u001b[1;33m \u001b[0mitem_order\u001b[0m\u001b[1;33m(\u001b[0m\u001b[1;34m\"water\"\u001b[0m\u001b[1;33m)\u001b[0m\u001b[1;33m\u001b[0m\u001b[0m\n\u001b[0m",
      "\u001b[1;32m<ipython-input-4-c571291ae5ab>\u001b[0m in \u001b[0;36mitem_order\u001b[1;34m(order)\u001b[0m\n\u001b[0;32m     12\u001b[0m         \u001b[0mhamburger_counter\u001b[0m \u001b[1;33m+=\u001b[0m\u001b[1;36m1\u001b[0m\u001b[1;33m\u001b[0m\u001b[0m\n\u001b[0;32m     13\u001b[0m     \u001b[1;32melif\u001b[0m \u001b[0morder\u001b[0m\u001b[1;33m==\u001b[0m\u001b[1;34m\"water\"\u001b[0m\u001b[1;33m:\u001b[0m\u001b[1;33m\u001b[0m\u001b[0m\n\u001b[1;32m---> 14\u001b[1;33m         \u001b[0mwater_counter\u001b[0m \u001b[1;33m+=\u001b[0m\u001b[1;36m1\u001b[0m\u001b[1;33m\u001b[0m\u001b[0m\n\u001b[0m\u001b[0;32m     15\u001b[0m     \u001b[1;32melse\u001b[0m\u001b[1;33m:\u001b[0m\u001b[1;33m\u001b[0m\u001b[0m\n\u001b[0;32m     16\u001b[0m         \u001b[1;32mprint\u001b[0m \u001b[1;34m\"we have no such item in the menu\"\u001b[0m\u001b[1;33m\u001b[0m\u001b[0m\n",
      "\u001b[1;31mUnboundLocalError\u001b[0m: local variable 'water_counter' referenced before assignment"
     ]
    }
   ],
   "source": [
    "#lets assume initially we have items ordered zero, and we set up a counter for every item \n",
    "#salad_counter, hamburger_counter, water_counter , all of them initially zero\n",
    "\n",
    "salad_counter=0\n",
    "hamburger_counter=0\n",
    "water_counter=0\n",
    "\n",
    "def item_order(order):\n",
    "    if order==\"salad\":\n",
    "        salad_counter +=1\n",
    "    elif order==\"hamburger\":\n",
    "        hamburger_counter +=1\n",
    "    elif order==\"water\":\n",
    "        water_counter +=1\n",
    "    else:\n",
    "        print \"we have no such item in the menu\"\n",
    "    return (\"salad:\"+str(salad_counter)+\" \"+\"hamburger:\"+str(hamburger_counter)+\" \"+\"water:\"+str(water_counter))\n",
    "\n",
    "item_order(\"water\")"
   ]
  },
  {
   "cell_type": "code",
   "execution_count": 6,
   "metadata": {
    "collapsed": false
   },
   "outputs": [
    {
     "data": {
      "text/plain": [
       "'salad:2 hamburger:0 water:1'"
      ]
     },
     "execution_count": 6,
     "metadata": {},
     "output_type": "execute_result"
    }
   ],
   "source": [
    "#so from the above error i can kind see there is a scope problem when i try to update water_counter inside the function\n",
    "#then i changed my code a bit and put every counter on a local scope to the function. \n",
    "#consider multiple inputs at a single order, that way we need to sort the order and get it as an arry or list or other \n",
    "#structure so we can update each counter \n",
    "#(split()->function will put each order in the list when they are separated by white space) then run the program, \n",
    "\n",
    "\n",
    "def item_order(order):\n",
    "    salad_counter=0\n",
    "    hamburger_counter=0\n",
    "    water_counter=0\n",
    "    sorted_order=order.split()\n",
    "    for word in sorted_order:\n",
    "       if word==\"salad\":\n",
    "          salad_counter +=1\n",
    "       elif word==\"hamburger\":\n",
    "          hamburger_counter +=1\n",
    "       elif word==\"water\":\n",
    "          water_counter +=1\n",
    "       elif word=='':\n",
    "          salad_counter\n",
    "          hamburger_counter\n",
    "          water_counter\n",
    "       else:\n",
    "        print \"we have no such item in the menu\"\n",
    "    return (\"salad:\"+str(salad_counter)+\" \"+\"hamburger:\"+str(hamburger_counter)+\" \"+\"water:\"+str(water_counter))\n",
    "\n",
    "item_order(\"salad water salad\")\n",
    "\n"
   ]
  },
  {
   "cell_type": "code",
   "execution_count": null,
   "metadata": {
    "collapsed": true
   },
   "outputs": [],
   "source": []
  }
 ],
 "metadata": {
  "kernelspec": {
   "display_name": "Python 2",
   "language": "python",
   "name": "python2"
  },
  "language_info": {
   "codemirror_mode": {
    "name": "ipython",
    "version": 2
   },
   "file_extension": ".py",
   "mimetype": "text/x-python",
   "name": "python",
   "nbconvert_exporter": "python",
   "pygments_lexer": "ipython2",
   "version": "2.7.9"
  }
 },
 "nbformat": 4,
 "nbformat_minor": 0
}
