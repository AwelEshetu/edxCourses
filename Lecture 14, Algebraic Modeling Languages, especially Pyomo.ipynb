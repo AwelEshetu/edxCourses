{
 "cells": [
  {
   "cell_type": "markdown",
   "metadata": {
    "slideshow": {
     "slide_type": "slide"
    }
   },
   "source": [
    "# Lecture 14, Algebraic Modeling Languages"
   ]
  },
  {
   "cell_type": "markdown",
   "metadata": {},
   "source": [
    "Algebraic Modeling Languages (AML) are high-level computer programming languages for describing and solving high complexity problems for large scale mathematical computation (i.e. large scale optimization type problems).  Their syntax mimics the mathematical notation of optimization problems, which allows one to express optimization problems in a familiar, concise and readable way. \n",
    "\n",
    "**AMLs do not directly solve the problem, but they call appropriate external solvers to find the solution.**\n",
    "\n",
    "Examples of AMLs are\n",
    "* A Mathematical Programming Language (AMPL),\n",
    "* General Algebraic Modeling System (GAMS),\n",
    "* Optimization Programming Language (OPL),\n",
    "* Advanced Interactive Multidimensional Modeling System (AIMMS), and\n",
    "* Pyomo."
   ]
  },
  {
   "cell_type": "markdown",
   "metadata": {},
   "source": [
    "In addition to the ease of modelling, one of the advantages of AMLs is that you can model the problem once and then solve it with multiple solvers."
   ]
  },
  {
   "cell_type": "markdown",
   "metadata": {
    "slideshow": {
     "slide_type": "slide"
    }
   },
   "source": [
    "## Pyomo"
   ]
  },
  {
   "cell_type": "markdown",
   "metadata": {},
   "source": [
    "On this course, we use Pyomo as an example of AMLs. Pyomo is a Python-based, open-source optimization modeling language with a diverse set of optimization capabilities.\n",
    "\n",
    "Pyomo may not be a completely typical AML, because Pyomo's modeling objects are embedded within a full-featured high-level programming language providing a rich set of supporting libraries, which distinguishes Pyomo from other AMLs.\n",
    "\n",
    "Pyomo supports a wide range of problem types, including:\n",
    "* Linear programming\n",
    "* Quadratic programming\n",
    "* Nonlinear programming\n",
    "* Mixed-integer linear programming\n",
    "* Mixed-integer quadratic programming\n",
    "* Mixed-integer nonlinear programming\n",
    "* Stochastic programming\n",
    "* Generalized disjunctive programming\n",
    "* Differential algebraic equations\n",
    "* Bilevel programming\n",
    "* Mathematical programs with equilibrium constraints"
   ]
  },
  {
   "cell_type": "markdown",
   "metadata": {
    "slideshow": {
     "slide_type": "slide"
    }
   },
   "source": [
    "# Installing Pyomo\n",
    "\n",
    "The easiest way to install Pyomo is to call\n",
    "```\n",
    "pip install pyomo\n",
    "```\n",
    "when pip has been installed on your machine."
   ]
  },
  {
   "cell_type": "markdown",
   "metadata": {
    "slideshow": {
     "slide_type": "slide"
    }
   },
   "source": [
    "## Example 1, linear optimization"
   ]
  },
  {
   "cell_type": "markdown",
   "metadata": {},
   "source": [
    "Let us start with a very simple linear problem\n",
    "$$\n",
    "\\begin{align}\n",
    "\\min &\\qquad   2x_1+3x_2\\\\\n",
    "\\text{s.t. }& \\qquad 2x_1+3x_2\\geq 1\\\\\n",
    "& \\qquad x_1,x_2\\geq 0.\n",
    "\\end{align}\n",
    "$$"
   ]
  },
  {
   "cell_type": "code",
   "execution_count": null,
   "metadata": {
    "collapsed": false,
    "slideshow": {
     "slide_type": "-"
    }
   },
   "outputs": [],
   "source": [
    "from pyomo.environ import *\n",
    "\n",
    "\n",
    "model = ConcreteModel()\n",
    "\n",
    "model.x = Var([1,2], domain=NonNegativeReals) #Non-negative variables x[1] and x[2]\n",
    "\n",
    "model.OBJ = Objective(expr = 2*model.x[1] + 3*model.x[2]) #Objective function\n",
    "\n",
    "model.Constraint1 = Constraint(expr = 3*model.x[1] + 4*model.x[2] >= 1) #Constraint\n"
   ]
  },
  {
   "cell_type": "markdown",
   "metadata": {
    "slideshow": {
     "slide_type": "subslide"
    }
   },
   "source": [
    "Once we have defined the problem, we can solve it. Let us start by using glpk, which is an open source linear programming program.\n",
    "\n",
    "You need to have glpk installed on your system. For details, see https://www.gnu.org/software/glpk/#TOCdownloading. For many Linux distributions, you can install glpk from the repositories by typing\n",
    "```\n",
    "sudo yum install glpk\n",
    "```\n",
    "```\n",
    "sudo apt-get install glpk,\n",
    "```\n",
    "or whatever your distribution needs.\n"
   ]
  },
  {
   "cell_type": "code",
   "execution_count": null,
   "metadata": {
    "collapsed": false
   },
   "outputs": [],
   "source": [
    "from pyomo.opt import SolverFactory #Import interfaces to solvers\n",
    "opt = SolverFactory(\"glpk\") #Use glpk\n",
    "res = opt.solve(model, tee=True) #Solve the  problem and print the output\n",
    "print \"Solution:\"\n",
    "print \"=========\"\n",
    "model.x.display() #Print values of x"
   ]
  },
  {
   "cell_type": "markdown",
   "metadata": {
    "slideshow": {
     "slide_type": "subslide"
    }
   },
   "source": [
    "Now, if you have other linear solvers installed on your system, you can use them too. Let us use Cplex, which is a commercial solvers (academic license available)."
   ]
  },
  {
   "cell_type": "code",
   "execution_count": null,
   "metadata": {
    "collapsed": false,
    "slideshow": {
     "slide_type": "-"
    }
   },
   "outputs": [],
   "source": [
    "opt = SolverFactory(\"cplex\")\n",
    "res = opt.solve(model, tee=True)\n",
    "print \"Solution:\"\n",
    "model.x.display()"
   ]
  },
  {
   "cell_type": "markdown",
   "metadata": {
    "slideshow": {
     "slide_type": "subslide"
    }
   },
   "source": [
    "We can use also gurobi, which is another commercial solver with academic license."
   ]
  },
  {
   "cell_type": "code",
   "execution_count": null,
   "metadata": {
    "collapsed": false
   },
   "outputs": [],
   "source": [
    "opt = SolverFactory(\"gurobi\")\n",
    "res = opt.solve(model, tee=True)\n",
    "print \"Solution:\"\n",
    "model.x.display()"
   ]
  },
  {
   "cell_type": "markdown",
   "metadata": {
    "slideshow": {
     "slide_type": "slide"
    }
   },
   "source": [
    "## Example 2, nonlinear optimization"
   ]
  },
  {
   "cell_type": "markdown",
   "metadata": {},
   "source": [
    "Let use define optimizaiton problem\n",
    "$$\n",
    "\\begin{align}\n",
    "\\min &\\qquad c_d\\\\\n",
    "\\text{s.t. }& \\qquad c_{af}s_v - s_vc_a-k_1c_a=0\\\\\n",
    "&\\qquad s_vc_b+k_1c_a-k_2c_b=0\\\\\n",
    "&\\qquad s_vc_c+k_2c_b=0\\\\\n",
    "&\\qquad s_vc_d+k_3c_a^2=0,\\\\\n",
    "&\\qquad s_v,c_a,c_b,c_c,c_d\\geq0\n",
    "\\end{align}\n",
    "$$\n",
    "where $k_1=5/6$, $k_2=5/3$, $k_3=1/6000$, and $c_{af}=10000$."
   ]
  },
  {
   "cell_type": "code",
   "execution_count": null,
   "metadata": {
    "collapsed": false
   },
   "outputs": [],
   "source": [
    "from pyomo.environ import *\n",
    "# create the concrete model\n",
    "model = ConcreteModel()\n",
    "# set the data (native python data)\n",
    "k1 = 5.0/6.0 # min-1\n",
    "k2 = 5.0/3.0 # min-1\n",
    "k3 = 1.0/6000.0 # m3/(gmol min)\n",
    "caf = 10000.0 # gmol/m3\n",
    "# create the variables\n",
    "model.sv = Var(initialize = 1.0, within=PositiveReals)\n",
    "model.ca = Var(initialize = 5000.0, within=PositiveReals)\n",
    "model.cb = Var(initialize = 2000.0, within=PositiveReals)\n",
    "model.cc = Var(initialize = 2000.0, within=PositiveReals)\n",
    "model.cd = Var(initialize = 1000.0, within=PositiveReals)\n",
    "\n",
    "# create the objective\n",
    "model.obj = Objective(expr = model.cb, sense=maximize)\n",
    "# create the constraints\n",
    "model.ca_bal = Constraint(expr = (0 == model.sv * caf \\\n",
    "    - model.sv * model.ca - k1 * model.ca \\\n",
    "    - 2.0 * k3 * model.ca ** 2.0))\n",
    "model.cb_bal = Constraint(expr=(0 == -model.sv * model.cb \\\n",
    "    + k1 * model.ca - k2 * model.cb))\n",
    "model.cc_bal = Constraint(expr=(0 == -model.sv * model.cc \\\n",
    "    + k2 * model.cb))\n",
    "model.cd_bal = Constraint(expr=(0 == -model.sv * model.cd \\\n",
    "    + k3 * model.ca ** 2.0))"
   ]
  },
  {
   "cell_type": "markdown",
   "metadata": {
    "slideshow": {
     "slide_type": "subslide"
    }
   },
   "source": [
    "## Solving with Ipopt\n",
    "\n",
    "Install IPopt following http://www.coin-or.org/Ipopt/documentation/node10.html."
   ]
  },
  {
   "cell_type": "code",
   "execution_count": null,
   "metadata": {
    "collapsed": false
   },
   "outputs": [],
   "source": [
    "opt = SolverFactory(\"ipopt\",solver_io=\"nl\")\n",
    "\n",
    "opt.solve(model,tee=True)\n",
    "\n",
    "print \"Solution is \"\n",
    "model.sv.display()\n",
    "model.ca.display()\n",
    "model.cb.display()\n",
    "model.cc.display()\n",
    "model.cd.display()"
   ]
  },
  {
   "cell_type": "markdown",
   "metadata": {},
   "source": [
    "# Example 3, Nonlinear multiobjective optimization"
   ]
  },
  {
   "cell_type": "code",
   "execution_count": 1,
   "metadata": {
    "collapsed": false
   },
   "outputs": [],
   "source": [
    "\n",
    "from pyomo.environ import *\n",
    "# create the concrete model9\n",
    "def solve_ach(reference,lb,ub):\n",
    "    model = ConcreteModel()\n",
    "\n",
    "    vwind = 5.0\n",
    "    min_speed = 0.01\n",
    "\n",
    "\n",
    "    #f1, time used\n",
    "    def f1(model):\n",
    "        return sum([sqrt(1+model.y[i]**2)/model.v[i] for i in range(48)])\n",
    "    #f2, wind drag, directly proportional to square of speed wrt. wind\n",
    "    def f2(model):\n",
    "        return sum([((model.y[i]*model.v[i])/sqrt(1+model.y[i]**2)+vwind)**2/\n",
    "                    +model.v[i]**2*((1+model.y[i])**2) for i in range(48)])\n",
    "    #f3, maximal course changes\n",
    "    def f3(model):\n",
    "        return sum([abs(model.y[i+1]-model.y[i]) for i in range(47)])\n",
    "\n",
    "    def h1_rule(model,i):\n",
    "        return sum(model.y[j] for j in range(i))<=-1\n",
    "    def h2_rule(model,i):\n",
    "        return abs(sum(model.y[j] for j in range(i)))>=2\n",
    "    def h3_rule(model,i):\n",
    "        return sum(model.y[j] for j in range(i))>=1\n",
    "    def h4_rule(model):\n",
    "        return sum([sqrt(1+model.y[i]**2)/model.v[i] for i in range(48)])<=25\n",
    "    def h5_rule(model):\n",
    "        return sum(model.y[i] for i in range(48))==0\n",
    "\n",
    "    def f_rule(model):\n",
    "        return t\n",
    "\n",
    "    def y_init(model,i):\n",
    "        if i==0:\n",
    "            return -1\n",
    "        if i==18:\n",
    "            return -1\n",
    "        if i==24:\n",
    "            return 1\n",
    "        if i==25:\n",
    "            return 1\n",
    "        if i==26:\n",
    "            return 1\n",
    "        if i==34:\n",
    "            return -1\n",
    "        return 0\n",
    "    model.y = Var(range(48),bounds = (-10,10),initialize=y_init)\n",
    "    model.v = Var(range(48),domain=NonNegativeReals,bounds=(min_speed,25),initialize=25)\n",
    "    model.t = Var()\n",
    "    model.h1=Constraint(range(9,14),rule=h1_rule)\n",
    "    model.h2=Constraint(range(19,24),rule=h2_rule)\n",
    "    model.h3=Constraint(range(29,34),rule=h3_rule)\n",
    "    model.h4=Constraint(rule=h4_rule)\n",
    "    model.h5=Constraint(rule=h5_rule)\n",
    "    def t_con_f1_rule(model):\n",
    "        return model.t>=(f1(model)-reference[0]-lb[0])/(ub[0]-lb[0])\n",
    "    model.t_con_f1 = Constraint(rule = t_con_f1_rule)\n",
    "    def t_con_f2_rule(model):\n",
    "        return model.t>=(f2(model)-reference[1]-lb[1])/(ub[1]-lb[1])\n",
    "    model.t_con_f2 = Constraint(rule = t_con_f2_rule)\n",
    "    def t_con_f3_rule(model):\n",
    "        return model.t>=(f3(model)-reference[2]-lb[2])/(ub[2]-lb[2])\n",
    "    model.t_con_f3 = Constraint(rule = t_con_f3_rule)\n",
    "    model.f = Objective(expr = model.t+1e-10*(f1(model)+f2(model)+f3(model)))\n",
    "    tee =False\n",
    "    opt = SolverFactory(\"ipopt\",solver_io=\"nl\")\n",
    "    opt.options.max_iter=100000\n",
    "    #opt.options.constr_viol_tol=0.01\n",
    "    #opt.options.halt_on_ampl_error = \"yes\"\n",
    "\n",
    "    opt.solve(model,tee=tee)\n",
    "    return [[value(f1(model)),value(f2(model)),value(f3(model))],[model.y,model.v]]\n"
   ]
  },
  {
   "cell_type": "code",
   "execution_count": 2,
   "metadata": {
    "collapsed": false
   },
   "outputs": [
    {
     "name": "stdout",
     "output_type": "stream",
     "text": [
      "WARNING - Loading a SolverResults object with a warning status into model=unknown; message from solver=Ipopt 3.12.4\\x3a Converged to a locally infeasible point. Problem may be infeasible.\n",
      "WARNING - Loading a SolverResults object with a warning status into model=unknown; message from solver=Ipopt 3.12.4\\x3a Maximum Number of Iterations Exceeded.\n",
      "[[19102.59569603247, 577040788.3481554, 640.0], [25.0000002474968, 2110.5217429468667, 283.1841729637473], [25.00000246783293, 7277.090327692254, 31.389742927132527]]\n"
     ]
    }
   ],
   "source": [
    "lb_ = [0,0,0]\n",
    "ub_ = [1,1,1]\n",
    "values =[]\n",
    "for i in range(3):\n",
    "    reference = [1e10,1e10,1e10]\n",
    "    reference[i]=0\n",
    "    values.append(solve_ach(reference,ub_,lb_)[0])\n",
    "print values"
   ]
  },
  {
   "cell_type": "code",
   "execution_count": 3,
   "metadata": {
    "collapsed": false
   },
   "outputs": [
    {
     "name": "stdout",
     "output_type": "stream",
     "text": [
      "[25.0000002474968, 2110.5217429468667, 31.389742927132527]\n",
      "[19102.59569603247, 577040788.3481554, 640.0]\n"
     ]
    }
   ],
   "source": [
    "lb = [0,0,0]\n",
    "ub = [1,1,1]\n",
    "for i in range(3):\n",
    "    lb[i] = min([values[j][i] for j in range(3)])\n",
    "    ub[i] = max([values[j][i] for j in range(3)])\n",
    "print lb\n",
    "print ub"
   ]
  },
  {
   "cell_type": "code",
   "execution_count": 4,
   "metadata": {
    "collapsed": false
   },
   "outputs": [
    {
     "name": "stdout",
     "output_type": "stream",
     "text": [
      "WARNING - Loading a SolverResults object with a warning status into model=unknown; message from solver=Ipopt 3.12.4\\x3a Maximum Number of Iterations Exceeded.\n"
     ]
    }
   ],
   "source": [
    "[f,x] = solve_ach([(a+b)/2 for (a,b) in zip(lb,ub)],lb,ub)"
   ]
  },
  {
   "cell_type": "code",
   "execution_count": 13,
   "metadata": {
    "collapsed": false
   },
   "outputs": [
    {
     "ename": "TypeError",
     "evalue": "Couldn't find foreign struct converter for 'cairo.Context'",
     "output_type": "error",
     "traceback": [
      "\u001b[1;31m---------------------------------------------------------------------------\u001b[0m",
      "\u001b[1;31mTypeError\u001b[0m                                 Traceback (most recent call last)",
      "\u001b[1;32m/usr/lib/python2.7/site-packages/matplotlib/backends/backend_gtk3.pyc\u001b[0m in \u001b[0;36midle_draw\u001b[1;34m(*args)\u001b[0m\n\u001b[0;32m    341\u001b[0m         \u001b[1;32mdef\u001b[0m \u001b[0midle_draw\u001b[0m\u001b[1;33m(\u001b[0m\u001b[1;33m*\u001b[0m\u001b[0margs\u001b[0m\u001b[1;33m)\u001b[0m\u001b[1;33m:\u001b[0m\u001b[1;33m\u001b[0m\u001b[0m\n\u001b[0;32m    342\u001b[0m             \u001b[1;32mtry\u001b[0m\u001b[1;33m:\u001b[0m\u001b[1;33m\u001b[0m\u001b[0m\n\u001b[1;32m--> 343\u001b[1;33m                 \u001b[0mself\u001b[0m\u001b[1;33m.\u001b[0m\u001b[0mdraw\u001b[0m\u001b[1;33m(\u001b[0m\u001b[1;33m)\u001b[0m\u001b[1;33m\u001b[0m\u001b[0m\n\u001b[0m\u001b[0;32m    344\u001b[0m             \u001b[1;32mfinally\u001b[0m\u001b[1;33m:\u001b[0m\u001b[1;33m\u001b[0m\u001b[0m\n\u001b[0;32m    345\u001b[0m                 \u001b[0mself\u001b[0m\u001b[1;33m.\u001b[0m\u001b[0m_idle_draw_id\u001b[0m \u001b[1;33m=\u001b[0m \u001b[1;36m0\u001b[0m\u001b[1;33m\u001b[0m\u001b[0m\n",
      "\u001b[1;32m/usr/lib/python2.7/site-packages/matplotlib/backends/backend_gtk3.pyc\u001b[0m in \u001b[0;36mdraw\u001b[1;34m(self)\u001b[0m\n\u001b[0;32m    334\u001b[0m             \u001b[1;31m# do a synchronous draw (its less efficient than an async draw,\u001b[0m\u001b[1;33m\u001b[0m\u001b[1;33m\u001b[0m\u001b[0m\n\u001b[0;32m    335\u001b[0m             \u001b[1;31m# but is required if/when animation is used)\u001b[0m\u001b[1;33m\u001b[0m\u001b[1;33m\u001b[0m\u001b[0m\n\u001b[1;32m--> 336\u001b[1;33m             \u001b[0mself\u001b[0m\u001b[1;33m.\u001b[0m\u001b[0mget_property\u001b[0m\u001b[1;33m(\u001b[0m\u001b[1;34m\"window\"\u001b[0m\u001b[1;33m)\u001b[0m\u001b[1;33m.\u001b[0m\u001b[0mprocess_updates\u001b[0m \u001b[1;33m(\u001b[0m\u001b[0mFalse\u001b[0m\u001b[1;33m)\u001b[0m\u001b[1;33m\u001b[0m\u001b[0m\n\u001b[0m\u001b[0;32m    337\u001b[0m \u001b[1;33m\u001b[0m\u001b[0m\n\u001b[0;32m    338\u001b[0m     \u001b[1;32mdef\u001b[0m \u001b[0mdraw_idle\u001b[0m\u001b[1;33m(\u001b[0m\u001b[0mself\u001b[0m\u001b[1;33m)\u001b[0m\u001b[1;33m:\u001b[0m\u001b[1;33m\u001b[0m\u001b[0m\n",
      "\u001b[1;31mTypeError\u001b[0m: Couldn't find foreign struct converter for 'cairo.Context'"
     ]
    }
   ],
   "source": [
    "import matplotlib.pyplot as plt\n",
    "#import matplotlib.patches as patches\n",
    "plt.plot([sum(value(x[0][j]) for j in range(i)) for i in range(49)])\n",
    "plt.show()"
   ]
  },
  {
   "cell_type": "code",
   "execution_count": null,
   "metadata": {
    "collapsed": true
   },
   "outputs": [],
   "source": []
  },
  {
   "cell_type": "markdown",
   "metadata": {
    "slideshow": {
     "slide_type": "slide"
    }
   },
   "source": [
    "## Black-box optimization problem"
   ]
  },
  {
   "cell_type": "code",
   "execution_count": null,
   "metadata": {
    "collapsed": false
   },
   "outputs": [],
   "source": [
    "import sys\n",
    "from pyomo.opt.blackbox import RealOptProblem\n",
    "\n",
    "class RealProblem1(RealOptProblem):\n",
    "\n",
    "    def __init__(self):\n",
    "        RealOptProblem.__init__(self)\n",
    "        self.lower=[0.0, -1.0, 1.0, None]\n",
    "        self.upper=[None, 0.0, 2.0, -1.0]\n",
    "        self.nvars=4\n",
    "\n",
    "    def function_value(self, point):\n",
    "        self.validate(point)\n",
    "        return point.vars[0] - point.vars[1] + (point.vars[2]-1.5)**2 + (point.vars[3]+2)**4\n",
    "\n",
    "problem = RealProblem1()\n"
   ]
  }
 ],
 "metadata": {
  "celltoolbar": "Slideshow",
  "kernelspec": {
   "display_name": "Python 2",
   "language": "python",
   "name": "python2"
  },
  "language_info": {
   "codemirror_mode": {
    "name": "ipython",
    "version": 2
   },
   "file_extension": ".py",
   "mimetype": "text/x-python",
   "name": "python",
   "nbconvert_exporter": "python",
   "pygments_lexer": "ipython2",
   "version": "2.7.11"
  }
 },
 "nbformat": 4,
 "nbformat_minor": 0
}
