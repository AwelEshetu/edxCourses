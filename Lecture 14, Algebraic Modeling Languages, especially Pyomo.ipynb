{
 "cells": [
  {
   "cell_type": "markdown",
   "metadata": {
    "slideshow": {
     "slide_type": "slide"
    }
   },
   "source": [
    "# Lecture 14, Algebraic Modeling Languages"
   ]
  },
  {
   "cell_type": "markdown",
   "metadata": {},
   "source": [
    "Algebraic Modeling Languages (AML) are high-level computer programming languages for describing and solving high complexity problems for large scale mathematical computation (i.e. large scale optimization type problems).  Their syntax mimics the mathematical notation of optimization problems, which allows one to express optimization problems in a familiar, concise and readable way. \n",
    "\n",
    "**AMLs do not directly solve the problem, but they call appropriate external solvers to find the solution.**\n",
    "\n",
    "Examples of AMLs are\n",
    "* A Mathematical Programming Language (AMPL),\n",
    "* General Algebraic Modeling System (GAMS),\n",
    "* Optimization Programming Language (OPL),\n",
    "* Advanced Interactive Multidimensional Modeling System (AIMMS), and\n",
    "* Pyomo."
   ]
  },
  {
   "cell_type": "markdown",
   "metadata": {},
   "source": [
    "In addition to the ease of modelling, one of the advantages of AMLs is that you can model the problem once and then solve it with multiple solvers."
   ]
  },
  {
   "cell_type": "markdown",
   "metadata": {
    "slideshow": {
     "slide_type": "slide"
    }
   },
   "source": [
    "## Pyomo"
   ]
  },
  {
   "cell_type": "markdown",
   "metadata": {},
   "source": [
    "On this course, we use Pyomo as an example of AMLs. Pyomo is a Python-based, open-source optimization modeling language with a diverse set of optimization capabilities.\n",
    "\n",
    "Pyomo may not be a completely typical AML, because Pyomo's modeling objects are embedded within a full-featured high-level programming language providing a rich set of supporting libraries, which distinguishes Pyomo from other AMLs.\n",
    "\n",
    "Pyomo supports a wide range of problem types, including:\n",
    "* Linear programming\n",
    "* Quadratic programming\n",
    "* Nonlinear programming\n",
    "* Mixed-integer linear programming\n",
    "* Mixed-integer quadratic programming\n",
    "* Mixed-integer nonlinear programming\n",
    "* Stochastic programming\n",
    "* Generalized disjunctive programming\n",
    "* Differential algebraic equations\n",
    "* Bilevel programming\n",
    "* Mathematical programs with equilibrium constraints"
   ]
  },
  {
   "cell_type": "markdown",
   "metadata": {
    "slideshow": {
     "slide_type": "slide"
    }
   },
   "source": [
    "# Installing Pyomo\n",
    "\n",
    "The easiest way to install Pyomo is to call\n",
    "```\n",
    "pip install pyomo\n",
    "```\n",
    "when pip has been installed on your machine."
   ]
  },
  {
   "cell_type": "markdown",
   "metadata": {
    "slideshow": {
     "slide_type": "slide"
    }
   },
   "source": [
    "## Example 1, linear optimization"
   ]
  },
  {
   "cell_type": "markdown",
   "metadata": {},
   "source": [
    "Let us start with a very simple linear problem\n",
    "$$\n",
    "\\begin{align}\n",
    "\\min &\\qquad   2x_1+3x_2\\\\\n",
    "\\text{s.t. }& \\qquad 2x_1+3x_2\\geq 1\\\\\n",
    "& \\qquad x_1,x_2\\geq 0.\n",
    "\\end{align}\n",
    "$$"
   ]
  },
  {
   "cell_type": "code",
   "execution_count": null,
   "metadata": {
    "collapsed": false,
    "slideshow": {
     "slide_type": "-"
    }
   },
   "outputs": [],
   "source": [
    "from pyomo.environ import *\n",
    "\n",
    "\n",
    "model = ConcreteModel()\n",
    "\n",
    "model.x = Var([1,2], domain=NonNegativeReals) #Non-negative variables x[1] and x[2]\n",
    "\n",
    "model.OBJ = Objective(expr = 2*model.x[1] + 3*model.x[2]) #Objective function\n",
    "\n",
    "model.Constraint1 = Constraint(expr = 3*model.x[1] + 4*model.x[2] >= 1) #Constraint\n"
   ]
  },
  {
   "cell_type": "markdown",
   "metadata": {
    "slideshow": {
     "slide_type": "subslide"
    }
   },
   "source": [
    "Once we have defined the problem, we can solve it. Let us start by using glpk, which is an open source linear programming program.\n",
    "\n",
    "You need to have glpk installed on your system. For details, see https://www.gnu.org/software/glpk/#TOCdownloading. For many Linux distributions, you can install glpk from the repositories by typing\n",
    "```\n",
    "sudo yum install glpk\n",
    "```\n",
    "```\n",
    "sudo apt-get install glpk,\n",
    "```\n",
    "or whatever your distribution needs.\n"
   ]
  },
  {
   "cell_type": "code",
   "execution_count": null,
   "metadata": {
    "collapsed": false
   },
   "outputs": [],
   "source": [
    "from pyomo.opt import SolverFactory #Import interfaces to solvers\n",
    "opt = SolverFactory(\"glpk\") #Use glpk\n",
    "res = opt.solve(model, tee=True) #Solve the  problem and print the output\n",
    "print \"Solution:\"\n",
    "print \"=========\"\n",
    "model.x.display() #Print values of x"
   ]
  },
  {
   "cell_type": "markdown",
   "metadata": {
    "slideshow": {
     "slide_type": "subslide"
    }
   },
   "source": [
    "Now, if you have other linear solvers installed on your system, you can use them too. Let us use Cplex, which is a commercial solvers (academic license available)."
   ]
  },
  {
   "cell_type": "code",
   "execution_count": null,
   "metadata": {
    "collapsed": false,
    "slideshow": {
     "slide_type": "-"
    }
   },
   "outputs": [],
   "source": [
    "opt = SolverFactory(\"cplex\")\n",
    "res = opt.solve(model, tee=True)\n",
    "print \"Solution:\"\n",
    "model.x.display()"
   ]
  },
  {
   "cell_type": "markdown",
   "metadata": {
    "slideshow": {
     "slide_type": "subslide"
    }
   },
   "source": [
    "We can use also gurobi, which is another commercial solver with academic license."
   ]
  },
  {
   "cell_type": "code",
   "execution_count": null,
   "metadata": {
    "collapsed": false
   },
   "outputs": [],
   "source": [
    "opt = SolverFactory(\"gurobi\")\n",
    "res = opt.solve(model, tee=True)\n",
    "print \"Solution:\"\n",
    "model.x.display()"
   ]
  },
  {
   "cell_type": "markdown",
   "metadata": {
    "slideshow": {
     "slide_type": "slide"
    }
   },
   "source": [
    "## Example 2, nonlinear optimization"
   ]
  },
  {
   "cell_type": "markdown",
   "metadata": {},
   "source": [
    "Let use define optimization problem\n",
    "$$\n",
    "\\begin{align}\n",
    "\\min &\\qquad c_d\\\\\n",
    "\\text{s.t. }& \\qquad c_{af}s_v - s_vc_a-k_1c_a=0\\\\\n",
    "&\\qquad s_vc_b+k_1c_a-k_2c_b=0\\\\\n",
    "&\\qquad s_vc_c+k_2c_b=0\\\\\n",
    "&\\qquad s_vc_d+k_3c_a^2=0,\\\\\n",
    "&\\qquad s_v,c_a,c_b,c_c,c_d\\geq0\n",
    "\\end{align}\n",
    "$$\n",
    "where $k_1=5/6$, $k_2=5/3$, $k_3=1/6000$, and $c_{af}=10000$."
   ]
  },
  {
   "cell_type": "code",
   "execution_count": null,
   "metadata": {
    "collapsed": false
   },
   "outputs": [],
   "source": [
    "from pyomo.environ import *\n",
    "# create the concrete model\n",
    "model = ConcreteModel()\n",
    "# set the data \n",
    "k1 = 5.0/6.0 \n",
    "k2 = 5.0/3.0 \n",
    "k3 = 1.0/6000.0 \n",
    "caf = 10000.0 \n",
    "# create the variables\n",
    "model.sv = Var(initialize = 1.0, within=PositiveReals)\n",
    "model.ca = Var(initialize = 5000.0, within=PositiveReals)\n",
    "model.cb = Var(initialize = 2000.0, within=PositiveReals)\n",
    "model.cc = Var(initialize = 2000.0, within=PositiveReals)\n",
    "model.cd = Var(initialize = 1000.0, within=PositiveReals)\n",
    "\n",
    "# create the objective\n",
    "model.obj = Objective(expr = model.cb, sense=maximize)\n",
    "# create the constraints\n",
    "model.ca_bal = Constraint(expr = (0 == model.sv * caf \\\n",
    "    - model.sv * model.ca - k1 * model.ca \\\n",
    "    - 2.0 * k3 * model.ca ** 2.0))\n",
    "model.cb_bal = Constraint(expr=(0 == -model.sv * model.cb \\\n",
    "    + k1 * model.ca - k2 * model.cb))\n",
    "model.cc_bal = Constraint(expr=(0 == -model.sv * model.cc \\\n",
    "    + k2 * model.cb))\n",
    "model.cd_bal = Constraint(expr=(0 == -model.sv * model.cd \\\n",
    "    + k3 * model.ca ** 2.0))"
   ]
  },
  {
   "cell_type": "markdown",
   "metadata": {
    "slideshow": {
     "slide_type": "subslide"
    }
   },
   "source": [
    "## Solving with Ipopt\n",
    "\n",
    "Install IPopt following http://www.coin-or.org/Ipopt/documentation/node10.html."
   ]
  },
  {
   "cell_type": "code",
   "execution_count": null,
   "metadata": {
    "collapsed": false
   },
   "outputs": [],
   "source": [
    "opt = SolverFactory(\"ipopt\",solver_io=\"nl\")\n",
    "\n",
    "opt.solve(model,tee=True)\n",
    "\n",
    "print \"Solution is \"\n",
    "model.sv.display()\n",
    "model.ca.display()\n",
    "model.cb.display()\n",
    "model.cc.display()\n",
    "model.cd.display()"
   ]
  },
  {
   "cell_type": "markdown",
   "metadata": {
    "slideshow": {
     "slide_type": "slide"
    }
   },
   "source": [
    "# Example 3, Nonlinear multiobjective optimization"
   ]
  },
  {
   "cell_type": "markdown",
   "metadata": {},
   "source": [
    "Let us study optimization problem\n",
    "$$\n",
    "\\begin{align}\n",
    "\\min \\ & \\left(\\sum_{i=1}^{48}\\frac{\\sqrt{1+x_i^2}}{v_i},\\sum_{i=1}^{48}\\left(\\left(\\frac{x_iv_i}{\\sqrt{1+x_i^2}}+v_w\\right)^2+\\frac{v_i^2}{1+x_i^2}\\right)\\right., \\\\\n",
    "&\\qquad\\left.\\sum_{i=1}^{47}\\big|(x_{i+1}-x_i\\big|\\right)\\\\\n",
    "\\text{s.t. } & \\sum_{i=1}^{j}x_i\\leq -1\\text{ for all }j=10,11,12,13,14\\\\\n",
    "& \\left|\\sum_{i=1}^{j}x_i\\right|\\geq 2\\text{ for all }j=20,21,22,23,24\\\\\n",
    "& \\sum_{i=1}^{j}x_i\\geq 1\\text{ for all }j=30,31,32,33,34\\\\\n",
    "&\\sum_{i=1}^{48}\\frac{\\sqrt{1+x_i^2}}{v_i} \\leq 5\\\\\n",
    "&\\sum_{i=1}^{48}x_i=0\\\\\n",
    "&-10\\leq\\sum_{i=1}^{j}x_i\\leq10\\text{ for all }j=1,\\ldots,48\n",
    "&0\\leq v_i\\leq 25\\text{ for all }i=1,\\ldots,48\\\\\n",
    "&-10\\leq x_i\\leq 10\\text{ for all }i=1,\\ldots,48\\\\\n",
    "\\end{align}\n",
    "$$"
   ]
  },
  {
   "cell_type": "code",
   "execution_count": 26,
   "metadata": {
    "collapsed": false
   },
   "outputs": [],
   "source": [
    "\n",
    "from pyomo.environ import *\n",
    "# create the concrete model9\n",
    "def solve_ach(reference,lb,ub):\n",
    "    model = ConcreteModel()\n",
    "\n",
    "    vwind = 5.0\n",
    "    min_speed = 0.01\n",
    "\n",
    "\n",
    "    #f1, time used\n",
    "    def f1(model):\n",
    "        return sum([sqrt(1+model.y[i]**2)/model.v[i] for i in range(48)])\n",
    "    #f2, wind drag, directly proportional to square of speed wrt. wind\n",
    "    def f2(model):\n",
    "        return sum([((model.y[i]*model.v[i])/sqrt(1+model.y[i]**2)+vwind)**2/\n",
    "                    +model.v[i]**2*((1+model.y[i])**2) for i in range(48)])\n",
    "    #f3, maximal course changes\n",
    "    def f3(model):\n",
    "        return sum([abs(model.y[i+1]-model.y[i]) for i in range(47)])\n",
    "\n",
    "    def h1_rule(model,i):\n",
    "        return sum(model.y[j] for j in range(i))<=-1\n",
    "    def h2_rule(model,i):\n",
    "        return abs(sum(model.y[j] for j in range(i)))>=2\n",
    "    def h3_rule(model,i):\n",
    "        return sum(model.y[j] for j in range(i))>=1\n",
    "    def h4_rule(model):\n",
    "        return sum([sqrt(1+model.y[i]**2)/model.v[i] for i in range(48)])<=25\n",
    "    def h5_rule(model):\n",
    "        return sum(model.y[i] for i in range(48))==0\n",
    "\n",
    "    def f_rule(model):\n",
    "        return t\n",
    "\n",
    "    def y_init(model,i):\n",
    "        if i==0:\n",
    "            return -1\n",
    "        if i==18:\n",
    "            return -1\n",
    "        if i==24:\n",
    "            return 1\n",
    "        if i==25:\n",
    "            return 1\n",
    "        if i==26:\n",
    "            return 1\n",
    "        if i==34:\n",
    "            return -1\n",
    "        return 0\n",
    "    model.y = Var(range(48),bounds = (-10,10),initialize=y_init)\n",
    "    model.v = Var(range(48),domain=NonNegativeReals,bounds=(min_speed,25),initialize=25)\n",
    "    model.t = Var()\n",
    "    model.h1=Constraint(range(9,14),rule=h1_rule)\n",
    "    model.h2=Constraint(range(19,24),rule=h2_rule)\n",
    "    model.h3=Constraint(range(29,34),rule=h3_rule)\n",
    "    model.h4=Constraint(rule=h4_rule)\n",
    "    model.h5=Constraint(rule=h5_rule)\n",
    "    \n",
    "    def h6_rule(model,i):\n",
    "        return -10<=sum([model.y[j] for j in range(i)])<=10\n",
    "    \n",
    "    model.h6 = Constraint(range(1,48),rule=h6_rule)\n",
    "    def t_con_f1_rule(model):\n",
    "        return model.t>=(f1(model)-reference[0]-lb[0])/(ub[0]-lb[0])\n",
    "    model.t_con_f1 = Constraint(rule = t_con_f1_rule)\n",
    "    def t_con_f2_rule(model):\n",
    "        return model.t>=(f2(model)-reference[1]-lb[1])/(ub[1]-lb[1])\n",
    "    model.t_con_f2 = Constraint(rule = t_con_f2_rule)\n",
    "    def t_con_f3_rule(model):\n",
    "        return model.t>=(f3(model)-reference[2]-lb[2])/(ub[2]-lb[2])\n",
    "    model.t_con_f3 = Constraint(rule = t_con_f3_rule)\n",
    "    model.f = Objective(expr = model.t+1e-10*(f1(model)+f2(model)+f3(model)))\n",
    "    tee =False\n",
    "    opt = SolverFactory(\"ipopt\",solver_io=\"nl\")\n",
    "    opt.options.max_iter=100000\n",
    "    #opt.options.constr_viol_tol=0.01\n",
    "    #opt.options.halt_on_ampl_error = \"yes\"\n",
    "\n",
    "    opt.solve(model,tee=tee)\n",
    "    return [[value(f1(model)),value(f2(model)),value(f3(model))],[model.y,model.v]]\n"
   ]
  },
  {
   "cell_type": "code",
   "execution_count": 27,
   "metadata": {
    "collapsed": false
   },
   "outputs": [
    {
     "name": "stdout",
     "output_type": "stream",
     "text": [
      "WARNING - Loading a SolverResults object with a warning status into model=unknown; message from solver=Ipopt 3.12\\x3a Maximum Number of Iterations Exceeded.\n",
      "WARNING - Loading a SolverResults object with a warning status into model=unknown; message from solver=Ipopt 3.12\\x3a Maximum Number of Iterations Exceeded.\n",
      "[[25133.93493837363, 759264160.1226324, 860.0], [25.000000247539568, 11188.12151236145, 147.55358533550918], [12673.93579526275, 289156195.6539606, 151.2406436251979]]\n"
     ]
    }
   ],
   "source": [
    "lb_ = [0,0,0]\n",
    "ub_ = [1,1,1]\n",
    "values =[]\n",
    "for i in range(3):\n",
    "    reference = [1e10,1e10,1e10]\n",
    "    reference[i]=0\n",
    "    values.append(solve_ach(reference,ub_,lb_)[0])\n",
    "print values"
   ]
  },
  {
   "cell_type": "code",
   "execution_count": 28,
   "metadata": {
    "collapsed": false
   },
   "outputs": [
    {
     "name": "stdout",
     "output_type": "stream",
     "text": [
      "[25.000000247539568, 11188.12151236145, 147.55358533550918]\n",
      "[25133.93493837363, 759264160.1226324, 860.0]\n"
     ]
    }
   ],
   "source": [
    "lb = [0,0,0]\n",
    "ub = [1,1,1]\n",
    "for i in range(3):\n",
    "    lb[i] = min([values[j][i] for j in range(3)])\n",
    "    ub[i] = max([values[j][i] for j in range(3)])\n",
    "print lb\n",
    "print ub"
   ]
  },
  {
   "cell_type": "code",
   "execution_count": null,
   "metadata": {
    "collapsed": false
   },
   "outputs": [],
   "source": [
    "#[f,x] = solve_ach([(a+b)/2 for (a,b) in zip(lb,ub)],lb,ub) #Compromise solution\n",
    "[f,x] = solve_ach([1e10,1e10,0],lb,ub) #Minimize the third objective\n"
   ]
  },
  {
   "cell_type": "code",
   "execution_count": 30,
   "metadata": {
    "collapsed": false
   },
   "outputs": [],
   "source": [
    "import matplotlib.pyplot as plt\n",
    "from matplotlib.patches import Rectangle\n",
    "plt.plot([sum(value(x[0][j]) for j in range(i)) for i in range(49)])\n",
    "currentAxis = plt.gca()\n",
    "currentAxis.add_patch(Rectangle((10, -1),4,10))\n",
    "currentAxis.add_patch(Rectangle((20, -2),4,4))\n",
    "currentAxis.add_patch(Rectangle((30, -10),4,11))\n",
    "plt.show()"
   ]
  },
  {
   "cell_type": "markdown",
   "metadata": {
    "slideshow": {
     "slide_type": "slide"
    }
   },
   "source": [
    "## Black-box optimization problem"
   ]
  },
  {
   "cell_type": "code",
   "execution_count": null,
   "metadata": {
    "collapsed": false
   },
   "outputs": [],
   "source": [
    "import sys\n",
    "from pyomo.opt.blackbox import RealOptProblem\n",
    "\n",
    "class RealProblem1(RealOptProblem):\n",
    "\n",
    "    def __init__(self):\n",
    "        RealOptProblem.__init__(self)\n",
    "        self.lower=[0.0, -1.0, 1.0, None]\n",
    "        self.upper=[None, 0.0, 2.0, -1.0]\n",
    "        self.nvars=4\n",
    "\n",
    "    def function_value(self, point):\n",
    "        self.validate(point)\n",
    "        return point.vars[0] - point.vars[1] + (point.vars[2]-1.5)**2 + (point.vars[3]+2)**4\n",
    "\n",
    "problem = RealProblem1()\n"
   ]
  }
 ],
 "metadata": {
  "celltoolbar": "Slideshow",
  "kernelspec": {
   "display_name": "Python 2",
   "language": "python",
   "name": "python2"
  },
  "language_info": {
   "codemirror_mode": {
    "name": "ipython",
    "version": 2
   },
   "file_extension": ".py",
   "mimetype": "text/x-python",
   "name": "python",
   "nbconvert_exporter": "python",
   "pygments_lexer": "ipython2",
   "version": "2.7.5"
  }
 },
 "nbformat": 4,
 "nbformat_minor": 0
}
